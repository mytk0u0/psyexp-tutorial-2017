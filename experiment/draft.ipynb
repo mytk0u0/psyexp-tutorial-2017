{
 "cells": [
  {
   "cell_type": "markdown",
   "metadata": {},
   "source": [
    "# Stroop課題を作ってみる\n",
    "まず，Jupyterでデバッグしながら作ってみます．完成したら「File」→「Download as」でpythonファイルとして吐き出し，好みでコメントを編集・削除して整形します．\n",
    "\n",
    "![実験の流れ](実験の流れ.png)"
   ]
  },
  {
   "cell_type": "markdown",
   "metadata": {},
   "source": [
    "## 0. ライブラリのインポート"
   ]
  },
  {
   "cell_type": "code",
   "execution_count": 1,
   "metadata": {
    "collapsed": true
   },
   "outputs": [],
   "source": [
    "from __future__ import division, unicode_literals, print_function\n",
    "import numpy as np\n",
    "import pandas as pd\n",
    "from psychopy import visual, core, event"
   ]
  },
  {
   "cell_type": "code",
   "execution_count": 2,
   "metadata": {
    "collapsed": true
   },
   "outputs": [],
   "source": [
    "SUBJECT_ID = 1  # 被験者番号\n",
    "N_REPEAT = 3  # 繰り返し数\n",
    "UNIT = 30  # 視角1度の大きさ"
   ]
  },
  {
   "cell_type": "markdown",
   "metadata": {},
   "source": [
    "## 1. 前準備\n",
    "### 1.1. 出力データの作成"
   ]
  },
  {
   "cell_type": "code",
   "execution_count": 3,
   "metadata": {
    "collapsed": false
   },
   "outputs": [],
   "source": [
    "index = pd.MultiIndex.from_product([['R', 'G', 'B'], ['赤', '緑', '青']], names=['ink', 'text'])\n",
    "columns = ['subj', 'RT']\n",
    "df = pd.DataFrame(0, index=index, columns=columns)\n",
    "\n",
    "# 繰り返し \n",
    "df = pd.concat([df for i in range(N_REPEAT)])\n",
    "\n",
    "# 被験者IDをつけておく\n",
    "df['subj'] = SUBJECT_ID\n",
    "\n",
    "# ランダマイズ\n",
    "randomized_index = np.random.permutation(len(df))\n",
    "df = df.iloc[randomized_index, :]"
   ]
  },
  {
   "cell_type": "markdown",
   "metadata": {},
   "source": [
    "### 1.2. 実験刺激の作成"
   ]
  },
  {
   "cell_type": "code",
   "execution_count": 4,
   "metadata": {
    "collapsed": true
   },
   "outputs": [],
   "source": [
    "win = visual.Window(color=[1, 1, 1], units='pix')  # 下書き用\n",
    "# win = visual.Window(color=[1, 1, 1], units='pix', fullscr=True, allowGUI=False)  # 本番用"
   ]
  },
  {
   "cell_type": "code",
   "execution_count": 5,
   "metadata": {
    "collapsed": true
   },
   "outputs": [],
   "source": [
    "# 事前準備\n",
    "black = [-1, -1, -1]\n",
    "red = [1, -1, -1]\n",
    "green = [-1, 1, -1]\n",
    "blue = [-1, -1, 1]"
   ]
  },
  {
   "cell_type": "code",
   "execution_count": 6,
   "metadata": {
    "collapsed": true
   },
   "outputs": [],
   "source": [
    "# メッセージ\n",
    "msg_ready = visual.TextStim(win, 'Ready?', color=black, height=UNIT)\n",
    "msg_gratitude = visual.TextStim(win, 'Thank you!', color=black, height=UNIT)"
   ]
  },
  {
   "cell_type": "code",
   "execution_count": 7,
   "metadata": {
    "collapsed": false
   },
   "outputs": [],
   "source": [
    "# 注視点\n",
    "shape = [[-UNIT, 0], [UNIT, 0], [0, 0], [0, -UNIT], [0, UNIT], [0, 0]]\n",
    "fixation = visual.ShapeStim(win, vertices=shape, lineWidth=3, lineColor=black)"
   ]
  },
  {
   "cell_type": "code",
   "execution_count": 8,
   "metadata": {
    "collapsed": false
   },
   "outputs": [],
   "source": [
    "# 文字刺激\n",
    "stim = {\n",
    "    ('R', '赤'): visual.TextStim(win, '赤', color=red, height=2 * UNIT, font='ipaexgothic'),\n",
    "    ('R', '緑'): visual.TextStim(win, '緑', color=red, height=2 * UNIT, font='ipaexgothic'),\n",
    "    ('R', '青'): visual.TextStim(win, '青', color=red, height=2 * UNIT, font='ipaexgothic'),\n",
    "    ('G', '赤'): visual.TextStim(win, '赤', color=green, height=2 * UNIT, font='ipaexgothic'),\n",
    "    ('G', '緑'): visual.TextStim(win, '緑', color=green, height=2 * UNIT, font='ipaexgothic'),\n",
    "    ('G', '青'): visual.TextStim(win, '青', color=green, height=2 * UNIT, font='ipaexgothic'),\n",
    "    ('B', '赤'): visual.TextStim(win, '赤', color=blue, height=2 * UNIT, font='ipaexgothic'),\n",
    "    ('B', '緑'): visual.TextStim(win, '緑', color=blue, height=2 * UNIT, font='ipaexgothic'),\n",
    "    ('B', '青'): visual.TextStim(win, '青', color=blue, height=2 * UNIT, font='ipaexgothic'),\n",
    "}"
   ]
  },
  {
   "cell_type": "code",
   "execution_count": 9,
   "metadata": {
    "collapsed": true
   },
   "outputs": [],
   "source": [
    "# ストップウォッチ\n",
    "clock = core.Clock()"
   ]
  },
  {
   "cell_type": "markdown",
   "metadata": {},
   "source": [
    "## 2. 実験ループ"
   ]
  },
  {
   "cell_type": "code",
   "execution_count": 10,
   "metadata": {
    "collapsed": false
   },
   "outputs": [],
   "source": [
    "for cond, value in df.iterrows():\n",
    "    msg_ready.draw()\n",
    "    win.flip()\n",
    "    event.waitKeys(keyList=['space'])\n",
    "    \n",
    "    fixation.draw()\n",
    "    win.flip()\n",
    "    core.wait(0.5)\n",
    "\n",
    "    # 2.1. 刺激呈示\n",
    "    stim[cond].draw()\n",
    "    win.flip()\n",
    "    \n",
    "    # 2.2. 反応取得\n",
    "    start = clock.getTime()\n",
    "    keys = event.waitKeys(keyList=['j', 'k', 'l'])\n",
    "    end = clock.getTime()\n",
    "    \n",
    "    # 2.3. 反応記録\n",
    "    rt = (end - start) * 1000  # in ms\n",
    "    value['RT'] = rt"
   ]
  },
  {
   "cell_type": "code",
   "execution_count": 11,
   "metadata": {
    "collapsed": false
   },
   "outputs": [
    {
     "name": "stdout",
     "output_type": "stream",
     "text": [
      "1.1219 \tWARNING \tMonitor specification not found. Creating a temporary one...\n"
     ]
    }
   ],
   "source": [
    "# 終了処理\n",
    "msg_gratitude.draw()\n",
    "win.flip()\n",
    "core.wait(3)\n",
    "win.close()"
   ]
  },
  {
   "cell_type": "code",
   "execution_count": 12,
   "metadata": {
    "collapsed": false
   },
   "outputs": [],
   "source": [
    "# 2.4. ファイル出力\n",
    "filename = 'output/result' + str(SUBJECT_ID) + '.csv'\n",
    "df.to_csv(filename, encoding='utf-8')  # or shift-JIS"
   ]
  }
 ],
 "metadata": {
  "kernelspec": {
   "display_name": "Python [conda env:python2]",
   "language": "python",
   "name": "conda-env-python2-py"
  },
  "language_info": {
   "codemirror_mode": {
    "name": "ipython",
    "version": 2
   },
   "file_extension": ".py",
   "mimetype": "text/x-python",
   "name": "python",
   "nbconvert_exporter": "python",
   "pygments_lexer": "ipython2",
   "version": "2.7.12"
  }
 },
 "nbformat": 4,
 "nbformat_minor": 2
}
