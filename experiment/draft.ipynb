{
 "cells": [
  {
   "cell_type": "markdown",
   "metadata": {},
   "source": [
    "# Stroop課題を作ってみる\n",
    "まず，Jupyterでデバッグしながら作ってみます．完成したら「File」→「Download as」でpythonファイルとして吐き出し，好みでコメントを編集・削除して整形します．大抵の実験プログラムの基本的なコードは以下のようなものになります．\n",
    "\n",
    "![実験の流れ](実験の流れ.png)"
   ]
  },
  {
   "cell_type": "markdown",
   "metadata": {},
   "source": [
    "## 0. ライブラリのインポート"
   ]
  },
  {
   "cell_type": "code",
   "execution_count": 1,
   "metadata": {
    "collapsed": true
   },
   "outputs": [],
   "source": [
    "from __future__ import division, unicode_literals, print_function\n",
    "import itertools\n",
    "import numpy as np\n",
    "import pandas as pd\n",
    "from psychopy import visual, core, event"
   ]
  },
  {
   "cell_type": "code",
   "execution_count": 2,
   "metadata": {
    "collapsed": true
   },
   "outputs": [],
   "source": [
    "SUBJECT_ID = 1  # 被験者番号\n",
    "N_REPEAT = 3  # 繰り返し数\n",
    "UNIT = 30  # 視角1度の大きさ"
   ]
  },
  {
   "cell_type": "markdown",
   "metadata": {},
   "source": [
    "## 1. 前準備\n",
    "### 1.1. 出力データの作成"
   ]
  },
  {
   "cell_type": "code",
   "execution_count": 3,
   "metadata": {},
   "outputs": [],
   "source": [
    "conditions = list(itertools.product(('R', 'G', 'B'), ('赤', '緑', '青')))\n",
    "df = pd.DataFrame(conditions, columns=['ink', 'text'])\n",
    "df['subj']  = SUBJECT_ID\n",
    "df['RT'] = 0\n",
    "df['key'] = ''\n",
    "\n",
    "# 繰り返し \n",
    "df = pd.concat([df for i in range(N_REPEAT)])\n",
    "\n",
    "# 被験者IDをつけておく\n",
    "df['subj'] = SUBJECT_ID\n",
    "\n",
    "# ランダマイズ\n",
    "randomized_index = np.random.permutation(len(df))\n",
    "df = df.iloc[randomized_index, :]\n",
    "df.reset_index(inplace=True, drop=True)"
   ]
  },
  {
   "cell_type": "markdown",
   "metadata": {},
   "source": [
    "### 1.2. 実験刺激の作成"
   ]
  },
  {
   "cell_type": "code",
   "execution_count": 4,
   "metadata": {
    "collapsed": true
   },
   "outputs": [],
   "source": [
    "# 事前準備\n",
    "BLACK = [-1, -1, -1]\n",
    "WHITE = [1, 1, 1]\n",
    "RED = [1, -1, -1]\n",
    "GREEN = [-1, 1, -1]\n",
    "BLUE = [-1, -1, 1]"
   ]
  },
  {
   "cell_type": "code",
   "execution_count": 5,
   "metadata": {},
   "outputs": [],
   "source": [
    "win = visual.Window(color=WHITE, units='pix')  # 下書き用\n",
    "# win = visual.Window(color=WHITE, units='pix', fullscr=True, allowGUI=False)  # 本番用"
   ]
  },
  {
   "cell_type": "code",
   "execution_count": 6,
   "metadata": {
    "collapsed": true
   },
   "outputs": [],
   "source": [
    "# メッセージ\n",
    "msg_ready = visual.TextStim(win, 'Ready?', color=BLACK, height=UNIT)\n",
    "msg_gratitude = visual.TextStim(win, 'Thank you!', color=BLACK, height=UNIT)"
   ]
  },
  {
   "cell_type": "code",
   "execution_count": 7,
   "metadata": {},
   "outputs": [],
   "source": [
    "# 注視点\n",
    "shape = [[-UNIT, 0], [UNIT, 0], [0, 0], [0, -UNIT], [0, UNIT], [0, 0]]\n",
    "fixation = visual.ShapeStim(win, vertices=shape, lineWidth=3, lineColor=BLACK)"
   ]
  },
  {
   "cell_type": "code",
   "execution_count": 8,
   "metadata": {},
   "outputs": [],
   "source": [
    "# 文字刺激\n",
    "stim = {\n",
    "    ('R', '赤'): visual.TextStim(win, '赤', color=RED, height=2 * UNIT, font='ipaexgothic'),\n",
    "    ('R', '緑'): visual.TextStim(win, '緑', color=RED, height=2 * UNIT, font='ipaexgothic'),\n",
    "    ('R', '青'): visual.TextStim(win, '青', color=RED, height=2 * UNIT, font='ipaexgothic'),\n",
    "    ('G', '赤'): visual.TextStim(win, '赤', color=GREEN, height=2 * UNIT, font='ipaexgothic'),\n",
    "    ('G', '緑'): visual.TextStim(win, '緑', color=GREEN, height=2 * UNIT, font='ipaexgothic'),\n",
    "    ('G', '青'): visual.TextStim(win, '青', color=GREEN, height=2 * UNIT, font='ipaexgothic'),\n",
    "    ('B', '赤'): visual.TextStim(win, '赤', color=BLUE, height=2 * UNIT, font='ipaexgothic'),\n",
    "    ('B', '緑'): visual.TextStim(win, '緑', color=BLUE, height=2 * UNIT, font='ipaexgothic'),\n",
    "    ('B', '青'): visual.TextStim(win, '青', color=BLUE, height=2 * UNIT, font='ipaexgothic'),\n",
    "}"
   ]
  },
  {
   "cell_type": "code",
   "execution_count": 9,
   "metadata": {
    "collapsed": true
   },
   "outputs": [],
   "source": [
    "# ストップウォッチ\n",
    "clock = core.Clock()"
   ]
  },
  {
   "cell_type": "markdown",
   "metadata": {},
   "source": [
    "## 2. 実験ループ"
   ]
  },
  {
   "cell_type": "code",
   "execution_count": 10,
   "metadata": {},
   "outputs": [],
   "source": [
    "for index, values in df.iterrows():\n",
    "    msg_ready.draw()\n",
    "    win.flip()\n",
    "    event.waitKeys(keyList=['space'])\n",
    "\n",
    "    fixation.draw()\n",
    "    win.flip()\n",
    "    core.wait(0.5)\n",
    "\n",
    "    # 2.1. 刺激呈示\n",
    "    stim[(values.ink, values.text)].draw()\n",
    "    win.flip()\n",
    "\n",
    "    # 2.2. 反応取得\n",
    "    start = clock.getTime()\n",
    "    keys = event.waitKeys(keyList=['j', 'k', 'l'])\n",
    "    end = clock.getTime()\n",
    "\n",
    "    # 2.3. 反応記録\n",
    "    rt = (end - start) * 1000  # 反応時間 (in ms)\n",
    "    key = keys[0]  # 反応キー\n",
    "    df.loc[index, ['RT', 'key']] = [rt, key]"
   ]
  },
  {
   "cell_type": "code",
   "execution_count": 11,
   "metadata": {},
   "outputs": [
    {
     "name": "stdout",
     "output_type": "stream",
     "text": [
      "0.3018 \tWARNING \tMovie2 stim could not be imported and won't be available\n",
      "1.1440 \tWARNING \tMonitor specification not found. Creating a temporary one...\n"
     ]
    }
   ],
   "source": [
    "# 終了処理\n",
    "msg_gratitude.draw()\n",
    "win.flip()\n",
    "core.wait(3)\n",
    "win.close()"
   ]
  },
  {
   "cell_type": "code",
   "execution_count": 12,
   "metadata": {},
   "outputs": [],
   "source": [
    "# 2.4. ファイル出力\n",
    "filename = 'output/result{}.csv'.format(SUBJECT_ID)\n",
    "df.to_csv(filename, encoding='utf-8')  # or shift-JIS for Excel"
   ]
  },
  {
   "cell_type": "markdown",
   "metadata": {},
   "source": [
    "ちゃんと動作することを「Kernel」→「Restart & Run All」で確認できたら，「File」→「Download as」→「Python (.py)」で保存します．\n",
    "\n",
    "デフォルトのファイル名「draft.py」はちょっと格好悪いので，適宜「main.py」等にリネームしてください．\n",
    "\n",
    "保存したファイルはPsychoPy (ソフトウェアのほう) から開けばすぐに実行できます．<br>\n",
    "あるいはAnacondaに同梱されているSpyderで実行しても良いし，以下のようにして，ターミナルやAnaconda Promptから直接実行しても良いです．\n",
    "\n",
    "```\n",
    "python main.py\n",
    "```"
   ]
  }
 ],
 "metadata": {
  "kernelspec": {
   "display_name": "Python 2",
   "language": "python",
   "name": "python2"
  },
  "language_info": {
   "codemirror_mode": {
    "name": "ipython",
    "version": 2
   },
   "file_extension": ".py",
   "mimetype": "text/x-python",
   "name": "python",
   "nbconvert_exporter": "python",
   "pygments_lexer": "ipython2",
   "version": "2.7.13"
  }
 },
 "nbformat": 4,
 "nbformat_minor": 2
}
