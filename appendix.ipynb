{
 "cells": [
  {
   "cell_type": "markdown",
   "metadata": {
    "deletable": true,
    "editable": true
   },
   "source": [
    "# よく使う操作"
   ]
  },
  {
   "cell_type": "code",
   "execution_count": 1,
   "metadata": {
    "collapsed": true,
    "deletable": true,
    "editable": true
   },
   "outputs": [],
   "source": [
    "# 2系の場合\n",
    "from __future__ import division, print_function, unicode_literals"
   ]
  },
  {
   "cell_type": "markdown",
   "metadata": {
    "deletable": true,
    "editable": true
   },
   "source": [
    "## 1. 実験時\n",
    "### 1.1. 上書き確認"
   ]
  },
  {
   "cell_type": "code",
   "execution_count": 2,
   "metadata": {
    "collapsed": false,
    "deletable": true,
    "editable": true
   },
   "outputs": [],
   "source": [
    "import os"
   ]
  },
  {
   "cell_type": "code",
   "execution_count": 3,
   "metadata": {
    "collapsed": false,
    "deletable": true,
    "editable": true
   },
   "outputs": [],
   "source": [
    "def confirm_overwriting(filename):\n",
    "    if os.path.exists(filename):\n",
    "        msg = 'Filename \"{}\" is already exists. overwrite this?\\n[y/n]'\n",
    "        print(msg.format(filename), end=' ')  # require importing __future__\n",
    "        while True:\n",
    "            key = raw_input()\n",
    "            if key == 'y':\n",
    "                return\n",
    "            elif key == 'n':\n",
    "                raise OSError('Ovarwriting was not allowed.')\n",
    "            else:\n",
    "                print('Please answer with \"y\" or \"n\".')\n",
    "                print(msg.format(filename), end=' ')"
   ]
  },
  {
   "cell_type": "code",
   "execution_count": 4,
   "metadata": {
    "collapsed": false,
    "deletable": true,
    "editable": true
   },
   "outputs": [
    {
     "name": "stdout",
     "output_type": "stream",
     "text": [
      "Filename \"./README.md\" is already exists. overwrite this?\n",
      "[y/n] a\n",
      "Please answer with \"y\" or \"n\".\n",
      "Filename \"./README.md\" is already exists. overwrite this?\n",
      "[y/n] b\n",
      "Please answer with \"y\" or \"n\".\n",
      "Filename \"./README.md\" is already exists. overwrite this?\n",
      "[y/n] y\n"
     ]
    }
   ],
   "source": [
    "# ファイルが既に存在している場合，上書きするかどうかをyes, noで確認する．\n",
    "# もし\"n\"を押した場合はエラーを出して実験を終了する．\n",
    "filename = './README.md'  # ※ READMEはこのファイルと同じ階層にあります．\n",
    "confirm_overwriting(filename)"
   ]
  },
  {
   "cell_type": "markdown",
   "metadata": {
    "deletable": true,
    "editable": true
   },
   "source": [
    "### 1.2. データフレームの作成"
   ]
  },
  {
   "cell_type": "code",
   "execution_count": 5,
   "metadata": {
    "collapsed": false,
    "deletable": true,
    "editable": true
   },
   "outputs": [],
   "source": [
    "import numpy as np\n",
    "import pandas as pd"
   ]
  },
  {
   "cell_type": "code",
   "execution_count": 6,
   "metadata": {
    "collapsed": true,
    "deletable": true,
    "editable": true
   },
   "outputs": [],
   "source": [
    "def make_dataframe(cond, nrep=1, is_randomized=True):\n",
    "    cond = {k: np.r_[v,] for k, v in cond.items()}\n",
    "    index = pd.MultiIndex.from_product(cond.values(), names=cond.keys())\n",
    "    df = pd.DataFrame(index=index).reset_index()\n",
    "    df = pd.concat([df for _ in range(nrep)])\n",
    "    df = df.iloc[np.random.permutation(len(df))] if is_randomized else df\n",
    "    return df.reset_index(drop=True)"
   ]
  },
  {
   "cell_type": "code",
   "execution_count": 7,
   "metadata": {
    "collapsed": false,
    "deletable": true,
    "editable": true
   },
   "outputs": [],
   "source": [
    "condition = {\n",
    "    'A': ('a1', 'a2', 'a3'),\n",
    "    'B': ('b1', 'b2'),\n",
    "}\n",
    "df = make_dataframe(condition, nrep=2, is_randomized=False)"
   ]
  },
  {
   "cell_type": "markdown",
   "metadata": {
    "collapsed": false,
    "deletable": true,
    "editable": true
   },
   "source": [
    "### 1.3. 疑似ランダム選択"
   ]
  },
  {
   "cell_type": "code",
   "execution_count": 8,
   "metadata": {
    "collapsed": true,
    "deletable": true,
    "editable": true
   },
   "outputs": [],
   "source": [
    "import numpy as np"
   ]
  },
  {
   "cell_type": "code",
   "execution_count": 9,
   "metadata": {
    "collapsed": true,
    "deletable": true,
    "editable": true
   },
   "outputs": [],
   "source": [
    "def uniform_sample(values, n):\n",
    "    # なるべく均等にvaluesが割り当てられるようにランダム選択する．\n",
    "    samples = np.repeat(values, np.floor(n / len(values)))\n",
    "    samples = np.r_[samples, np.random.choice(\n",
    "        values, n - len(samples), replace=False)]\n",
    "    np.random.shuffle(samples)\n",
    "    return samples"
   ]
  },
  {
   "cell_type": "code",
   "execution_count": 10,
   "metadata": {
    "collapsed": false,
    "deletable": true,
    "editable": true
   },
   "outputs": [
    {
     "data": {
      "text/plain": [
       "array([u'b', u'a', u'b', u'c', u'a'], \n",
       "      dtype='<U1')"
      ]
     },
     "execution_count": 10,
     "metadata": {},
     "output_type": "execute_result"
    }
   ],
   "source": [
    "# うち2つは2個取り出され，残りは1個だけ取り出される．\n",
    "# 'a'だけ4個取り出されるとか，'b'が取り出されない，みたいな事態にはならない．\n",
    "uniform_sample(('a', 'b', 'c'), 5)"
   ]
  },
  {
   "cell_type": "markdown",
   "metadata": {
    "deletable": true,
    "editable": true
   },
   "source": [
    "## 2. 分析時\n",
    "### 2.1. 被験者ごとに標準化する"
   ]
  },
  {
   "cell_type": "code",
   "execution_count": 11,
   "metadata": {
    "collapsed": true,
    "deletable": true,
    "editable": true
   },
   "outputs": [],
   "source": [
    "import pandas as pd\n",
    "from scipy.stats import zscore"
   ]
  },
  {
   "cell_type": "code",
   "execution_count": 12,
   "metadata": {
    "collapsed": false,
    "deletable": true,
    "editable": true
   },
   "outputs": [
    {
     "data": {
      "text/html": [
       "<div>\n",
       "<table border=\"1\" class=\"dataframe\">\n",
       "  <thead>\n",
       "    <tr style=\"text-align: right;\">\n",
       "      <th></th>\n",
       "      <th>RT</th>\n",
       "      <th>subj</th>\n",
       "      <th>RT_std</th>\n",
       "    </tr>\n",
       "  </thead>\n",
       "  <tbody>\n",
       "    <tr>\n",
       "      <th>0</th>\n",
       "      <td>510</td>\n",
       "      <td>1</td>\n",
       "      <td>-1.414214</td>\n",
       "    </tr>\n",
       "    <tr>\n",
       "      <th>1</th>\n",
       "      <td>520</td>\n",
       "      <td>1</td>\n",
       "      <td>-0.707107</td>\n",
       "    </tr>\n",
       "    <tr>\n",
       "      <th>2</th>\n",
       "      <td>530</td>\n",
       "      <td>1</td>\n",
       "      <td>0.000000</td>\n",
       "    </tr>\n",
       "    <tr>\n",
       "      <th>3</th>\n",
       "      <td>540</td>\n",
       "      <td>1</td>\n",
       "      <td>0.707107</td>\n",
       "    </tr>\n",
       "    <tr>\n",
       "      <th>4</th>\n",
       "      <td>550</td>\n",
       "      <td>1</td>\n",
       "      <td>1.414214</td>\n",
       "    </tr>\n",
       "    <tr>\n",
       "      <th>5</th>\n",
       "      <td>1010</td>\n",
       "      <td>2</td>\n",
       "      <td>-1.414214</td>\n",
       "    </tr>\n",
       "    <tr>\n",
       "      <th>6</th>\n",
       "      <td>1020</td>\n",
       "      <td>2</td>\n",
       "      <td>-0.707107</td>\n",
       "    </tr>\n",
       "    <tr>\n",
       "      <th>7</th>\n",
       "      <td>1030</td>\n",
       "      <td>2</td>\n",
       "      <td>0.000000</td>\n",
       "    </tr>\n",
       "    <tr>\n",
       "      <th>8</th>\n",
       "      <td>1040</td>\n",
       "      <td>2</td>\n",
       "      <td>0.707107</td>\n",
       "    </tr>\n",
       "    <tr>\n",
       "      <th>9</th>\n",
       "      <td>1050</td>\n",
       "      <td>2</td>\n",
       "      <td>1.414214</td>\n",
       "    </tr>\n",
       "  </tbody>\n",
       "</table>\n",
       "</div>"
      ],
      "text/plain": [
       "     RT  subj    RT_std\n",
       "0   510     1 -1.414214\n",
       "1   520     1 -0.707107\n",
       "2   530     1  0.000000\n",
       "3   540     1  0.707107\n",
       "4   550     1  1.414214\n",
       "5  1010     2 -1.414214\n",
       "6  1020     2 -0.707107\n",
       "7  1030     2  0.000000\n",
       "8  1040     2  0.707107\n",
       "9  1050     2  1.414214"
      ]
     },
     "execution_count": 12,
     "metadata": {},
     "output_type": "execute_result"
    }
   ],
   "source": [
    "df = pd.DataFrame({\n",
    "    'subj': [1, 1, 1, 1, 1,\n",
    "             2, 2, 2, 2, 2],\n",
    "    'RT': [510, 520, 530, 540, 550,\n",
    "           1010, 1020, 1030, 1040, 1050]\n",
    "})\n",
    "\n",
    "df['RT_std'] = df.groupby('subj')['RT'].transform(zscore)\n",
    "df  # 被験者ごとに個別に反応時間を標準化することができた"
   ]
  }
 ],
 "metadata": {
  "kernelspec": {
   "display_name": "psychopy",
   "language": "python",
   "name": "psychopy"
  },
  "language_info": {
   "codemirror_mode": {
    "name": "ipython",
    "version": 2
   },
   "file_extension": ".py",
   "mimetype": "text/x-python",
   "name": "python",
   "nbconvert_exporter": "python",
   "pygments_lexer": "ipython2",
   "version": "2.7.12"
  }
 },
 "nbformat": 4,
 "nbformat_minor": 2
}
