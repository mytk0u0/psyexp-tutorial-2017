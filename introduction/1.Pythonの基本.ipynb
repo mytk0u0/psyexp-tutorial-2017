{
 "cells": [
  {
   "cell_type": "code",
   "execution_count": 1,
   "metadata": {
    "collapsed": false,
    "deletable": true,
    "editable": true
   },
   "outputs": [],
   "source": [
    "from __future__ import division, unicode_literals, print_function\n",
    "import numpy as np\n",
    "import pandas as pd"
   ]
  },
  {
   "cell_type": "markdown",
   "metadata": {
    "deletable": true,
    "editable": true
   },
   "source": [
    "# 1. Pythonの基本\n",
    "## 1.1. 組み込みのデータ型\n",
    "* int ... 整数 (説明省略)\n",
    "* float ... 小数 (説明省略)\n",
    "* str ... 文字列\n",
    "* list ... リスト\n",
    "* tuple ... タプル (読み込み専用list．今回は省略)\n",
    "* dict ... 辞書\n",
    "\n",
    "### 1.1.1. str"
   ]
  },
  {
   "cell_type": "code",
   "execution_count": 2,
   "metadata": {
    "collapsed": false,
    "deletable": true,
    "editable": true
   },
   "outputs": [
    {
     "name": "stdout",
     "output_type": "stream",
     "text": [
      "Hello World\n",
      "Hello World!!\n"
     ]
    }
   ],
   "source": [
    "text = \"Hello World\"\n",
    "print(text)\n",
    "print(text + '!!')  # 文字列を+すると文字が追加される"
   ]
  },
  {
   "cell_type": "markdown",
   "metadata": {
    "deletable": true,
    "editable": true
   },
   "source": [
    "### 1.1.2. list"
   ]
  },
  {
   "cell_type": "code",
   "execution_count": 3,
   "metadata": {
    "collapsed": false,
    "deletable": true,
    "editable": true,
    "scrolled": true
   },
   "outputs": [
    {
     "name": "stdout",
     "output_type": "stream",
     "text": [
      "2\n",
      "1\n",
      "[1, 7]\n",
      "[2, 0]\n",
      "7\n"
     ]
    }
   ],
   "source": [
    "# listの参照\n",
    "x = [2, 0, 1, 7]\n",
    "print(x[0])  # 最初の要素\n",
    "print(x[2])  # 3番目の要素\n",
    "print(x[2:])  # 3番目以降の要素\n",
    "print(x[:2])  # 3番目未満の要素\n",
    "print(x[-1])  # 最後の要素"
   ]
  },
  {
   "cell_type": "code",
   "execution_count": 4,
   "metadata": {
    "collapsed": false,
    "deletable": true,
    "editable": true
   },
   "outputs": [
    {
     "name": "stdout",
     "output_type": "stream",
     "text": [
      "[1, 2, 3, 4, 5, 6, 7, 8]\n",
      "[1, 2, 3, 4, 9999]\n",
      "4\n"
     ]
    }
   ],
   "source": [
    "# listの操作\n",
    "x = [1, 2, 3, 4]\n",
    "y = [5, 6, 7, 8]\n",
    "print(x + y)  # xとyが結合される\n",
    "x.append(9999)\n",
    "print(x)  # 9999が追加される\n",
    "print(x.index(9999))  # 9999があるインデックスを教えてくれる"
   ]
  },
  {
   "cell_type": "markdown",
   "metadata": {
    "deletable": true,
    "editable": true
   },
   "source": [
    "### 1.1.3. dict"
   ]
  },
  {
   "cell_type": "code",
   "execution_count": 5,
   "metadata": {
    "collapsed": false,
    "deletable": true,
    "editable": true
   },
   "outputs": [
    {
     "name": "stdout",
     "output_type": "stream",
     "text": [
      "[1, 2, 3]\n",
      "こんにちは\n"
     ]
    },
    {
     "ename": "KeyError",
     "evalue": "'d'",
     "output_type": "error",
     "traceback": [
      "\u001b[0;31m---------------------------------------------------------------------------\u001b[0m",
      "\u001b[0;31mKeyError\u001b[0m                                  Traceback (most recent call last)",
      "\u001b[0;32m<ipython-input-5-983f7d6f7f01>\u001b[0m in \u001b[0;36m<module>\u001b[0;34m()\u001b[0m\n\u001b[1;32m      8\u001b[0m \u001b[0mprint\u001b[0m\u001b[0;34m(\u001b[0m\u001b[0md\u001b[0m\u001b[0;34m[\u001b[0m\u001b[0;34m'a'\u001b[0m\u001b[0;34m]\u001b[0m\u001b[0;34m)\u001b[0m  \u001b[0;31m# 辞書の'a'には[1, 2, 3]が格納されている\u001b[0m\u001b[0;34m\u001b[0m\u001b[0m\n\u001b[1;32m      9\u001b[0m \u001b[0mprint\u001b[0m\u001b[0;34m(\u001b[0m\u001b[0md\u001b[0m\u001b[0;34m[\u001b[0m\u001b[0;34m'c'\u001b[0m\u001b[0;34m]\u001b[0m\u001b[0;34m)\u001b[0m  \u001b[0;31m# 辞書の'c'には'こんにちは'が格納されている\u001b[0m\u001b[0;34m\u001b[0m\u001b[0m\n\u001b[0;32m---> 10\u001b[0;31m \u001b[0mprint\u001b[0m\u001b[0;34m(\u001b[0m\u001b[0md\u001b[0m\u001b[0;34m[\u001b[0m\u001b[0;34m'd'\u001b[0m\u001b[0;34m]\u001b[0m\u001b[0;34m)\u001b[0m  \u001b[0;31m# 辞書には'd'が登録されていない\u001b[0m\u001b[0;34m\u001b[0m\u001b[0m\n\u001b[0m",
      "\u001b[0;31mKeyError\u001b[0m: 'd'"
     ]
    }
   ],
   "source": [
    "# dictの作成\n",
    "d = {\n",
    "    # key: value\n",
    "    'a': [1, 2, 3],\n",
    "    'b': [4, 5, 6],\n",
    "    'c': 'こんにちは'\n",
    "}\n",
    "print(d['a'])  # 辞書の'a'には[1, 2, 3]が格納されている\n",
    "print(d['c'])  # 辞書の'c'には'こんにちは'が格納されている\n",
    "print(d['d'])  # 辞書には'd'が登録されていない"
   ]
  },
  {
   "cell_type": "markdown",
   "metadata": {
    "deletable": true,
    "editable": true
   },
   "source": [
    "## 1.2. forとif\n",
    "### 1.2.1. for"
   ]
  },
  {
   "cell_type": "code",
   "execution_count": 6,
   "metadata": {
    "collapsed": false,
    "deletable": true,
    "editable": true
   },
   "outputs": [
    {
     "name": "stdout",
     "output_type": "stream",
     "text": [
      "1\n",
      "2\n",
      "3\n"
     ]
    }
   ],
   "source": [
    "for i in [1, 2, 3]:\n",
    "    print(i)"
   ]
  },
  {
   "cell_type": "code",
   "execution_count": 7,
   "metadata": {
    "collapsed": false,
    "deletable": true,
    "editable": true
   },
   "outputs": [
    {
     "name": "stdout",
     "output_type": "stream",
     "text": [
      "0\n",
      "1\n",
      "2\n"
     ]
    }
   ],
   "source": [
    "for i in range(3):  # range(3)は「0から始まる3要素のリスト (のようなもの)」を作成する\n",
    "    print(i)"
   ]
  },
  {
   "cell_type": "markdown",
   "metadata": {
    "deletable": true,
    "editable": true
   },
   "source": [
    "### 1.2.2. if"
   ]
  },
  {
   "cell_type": "code",
   "execution_count": 8,
   "metadata": {
    "collapsed": false,
    "deletable": true,
    "editable": true
   },
   "outputs": [
    {
     "name": "stdout",
     "output_type": "stream",
     "text": [
      "x is 3\n"
     ]
    }
   ],
   "source": [
    "x = 3\n",
    "if x == 3:\n",
    "    print('x is 3')"
   ]
  },
  {
   "cell_type": "code",
   "execution_count": 9,
   "metadata": {
    "collapsed": false,
    "deletable": true,
    "editable": true
   },
   "outputs": [
    {
     "name": "stdout",
     "output_type": "stream",
     "text": [
      "x is not 10\n"
     ]
    }
   ],
   "source": [
    "if x == 10:\n",
    "    print('x is 10')\n",
    "else:\n",
    "    print('x is not 10')"
   ]
  },
  {
   "cell_type": "code",
   "execution_count": 10,
   "metadata": {
    "collapsed": false,
    "deletable": true,
    "editable": true
   },
   "outputs": [
    {
     "name": "stdout",
     "output_type": "stream",
     "text": [
      "x is 3\n"
     ]
    }
   ],
   "source": [
    "if x == 10:\n",
    "    print('x is 10')\n",
    "elif x == 3:\n",
    "    print('x is 3')\n",
    "else:\n",
    "    print('x is neither 3 and 10')"
   ]
  },
  {
   "cell_type": "code",
   "execution_count": 11,
   "metadata": {
    "collapsed": false,
    "deletable": true,
    "editable": true
   },
   "outputs": [
    {
     "name": "stdout",
     "output_type": "stream",
     "text": [
      "x is in the list\n"
     ]
    }
   ],
   "source": [
    "if x in [1, 2, 3]:\n",
    "    print('x is in the list')"
   ]
  },
  {
   "cell_type": "markdown",
   "metadata": {
    "deletable": true,
    "editable": true
   },
   "source": [
    "## 1.3 NumPy\n",
    "心理学実験・分析を行ううえで，組み込みデータ型を使うことは基本的にほとんど無い．\n",
    "\n",
    "数値計算はほぼ全てNumPy，表の扱いはほぼ全てPandas (後述) で行う\n",
    "\n",
    "### 1.3.1 四則演算"
   ]
  },
  {
   "cell_type": "code",
   "execution_count": 12,
   "metadata": {
    "collapsed": false,
    "deletable": true,
    "editable": true
   },
   "outputs": [
    {
     "name": "stdout",
     "output_type": "stream",
     "text": [
      "[1 2 3]\n",
      "[4 5 6]\n",
      "[3 6 9]\n"
     ]
    }
   ],
   "source": [
    "# numpy.arrayの四則演算\n",
    "arr = np.array([1, 2, 3])\n",
    "print(arr)  # ぱっと見listと変わらないが…\n",
    "print(arr + 3)  # 足し算が可能\n",
    "print(arr * 3)  # 掛け算もOK!"
   ]
  },
  {
   "cell_type": "code",
   "execution_count": 13,
   "metadata": {
    "collapsed": false,
    "deletable": true,
    "editable": true
   },
   "outputs": [
    {
     "name": "stdout",
     "output_type": "stream",
     "text": [
      "[[1 2 3]\n",
      " [4 5 6]]\n"
     ]
    }
   ],
   "source": [
    "# numpy.arrayの多次元配列\n",
    "arr = np.array([[1, 2, 3], [4, 5, 6]])\n",
    "print(arr)  # listの入れ子で行列を表現できる"
   ]
  },
  {
   "cell_type": "markdown",
   "metadata": {
    "deletable": true,
    "editable": true
   },
   "source": [
    "### 1.3.2. 配列の作成"
   ]
  },
  {
   "cell_type": "code",
   "execution_count": 14,
   "metadata": {
    "collapsed": false,
    "deletable": true,
    "editable": true
   },
   "outputs": [
    {
     "name": "stdout",
     "output_type": "stream",
     "text": [
      "[ 0.  0.]\n",
      "[[ 1.  1.  1.  1.]\n",
      " [ 1.  1.  1.  1.]]\n",
      "[[ 0.76700413  0.28117237  0.53067314  0.29738767]\n",
      " [ 0.64155516  0.86241723  0.14577944  0.02167225]]\n"
     ]
    }
   ],
   "source": [
    "arr = np.zeros(2)\n",
    "print(arr)  # 長さ2の，0のみの1次元配列\n",
    "\n",
    "arr = np.ones([2, 4])\n",
    "print(arr)  # 2行4列の，1のみの2次元配列\n",
    "\n",
    "arr = np.random.random([2, 4])\n",
    "print(arr)  # 2行4列の，乱数の3次元配列"
   ]
  },
  {
   "cell_type": "markdown",
   "metadata": {
    "deletable": true,
    "editable": true
   },
   "source": [
    "### 1.3.3. 要素へのアクセス"
   ]
  },
  {
   "cell_type": "code",
   "execution_count": 15,
   "metadata": {
    "collapsed": false,
    "deletable": true,
    "editable": true
   },
   "outputs": [
    {
     "name": "stdout",
     "output_type": "stream",
     "text": [
      "[[1 2 3]\n",
      " [4 5 6]\n",
      " [7 8 9]]\n",
      "1\n",
      "[1 2 3]\n",
      "[3 6 9]\n",
      "[[4 5 6]\n",
      " [7 8 9]]\n"
     ]
    }
   ],
   "source": [
    "arr = np.array([[1, 2, 3], [4, 5, 6], [7, 8, 9]])\n",
    "print(arr)\n",
    "print(arr[0, 0])  # 1行1列目．行→列の順にカンマ区切りで指定\n",
    "print(arr[0, :])  # 1行目\n",
    "print(arr[:, -1])  # 最後の列\n",
    "print(arr[1:, :])  # 2行目以降"
   ]
  },
  {
   "cell_type": "markdown",
   "metadata": {
    "deletable": true,
    "editable": true
   },
   "source": [
    "## 1.4. Pandas\n",
    "Pandasはデータフレームの操作に特化している．Rのdata.frameとかなり類似した機能を持つ"
   ]
  },
  {
   "cell_type": "code",
   "execution_count": 16,
   "metadata": {
    "collapsed": false,
    "deletable": true,
    "editable": true
   },
   "outputs": [
    {
     "name": "stdout",
     "output_type": "stream",
     "text": [
      "   0  1  2\n",
      "0  1  2  3\n",
      "1  4  5  6\n",
      "2  7  8  9\n"
     ]
    }
   ],
   "source": [
    "df = pd.DataFrame(arr)  # データフレームの作成\n",
    "print(df)"
   ]
  },
  {
   "cell_type": "code",
   "execution_count": 17,
   "metadata": {
    "collapsed": false,
    "deletable": true,
    "editable": true
   },
   "outputs": [
    {
     "name": "stdout",
     "output_type": "stream",
     "text": [
      "       eins  zwei  drei\n",
      "one       1     2     3\n",
      "two       4     5     6\n",
      "three     7     8     9\n"
     ]
    }
   ],
   "source": [
    "df = pd.DataFrame(arr, index=['one', 'two', 'three'], columns=['eins', 'zwei', 'drei'])\n",
    "print(df)  # 行名・列名を指定することができる"
   ]
  },
  {
   "cell_type": "code",
   "execution_count": 18,
   "metadata": {
    "collapsed": false,
    "deletable": true,
    "editable": true,
    "scrolled": true
   },
   "outputs": [
    {
     "name": "stdout",
     "output_type": "stream",
     "text": [
      "2\n",
      "1\n"
     ]
    }
   ],
   "source": [
    "print(df.loc['one', 'zwei'])  # 名前でアクセス (location)\n",
    "print(df.iloc[0, 0])  # インデックスでアクセス (index location)"
   ]
  }
 ],
 "metadata": {
  "kernelspec": {
   "display_name": "psychopy",
   "language": "python",
   "name": "psychopy"
  },
  "language_info": {
   "codemirror_mode": {
    "name": "ipython",
    "version": 2
   },
   "file_extension": ".py",
   "mimetype": "text/x-python",
   "name": "python",
   "nbconvert_exporter": "python",
   "pygments_lexer": "ipython2",
   "version": "2.7.12"
  }
 },
 "nbformat": 4,
 "nbformat_minor": 2
}
