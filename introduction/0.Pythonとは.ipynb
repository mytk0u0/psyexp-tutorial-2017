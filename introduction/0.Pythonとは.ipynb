{
 "cells": [
  {
   "cell_type": "code",
   "execution_count": 1,
   "metadata": {
    "collapsed": true
   },
   "outputs": [],
   "source": [
    "%matplotlib inline\n",
    "from __future__ import division, unicode_literals, print_function"
   ]
  },
  {
   "cell_type": "markdown",
   "metadata": {},
   "source": [
    "# 0. Pythonとは\n",
    "## 0.1. R / Matlabとの違い\n",
    "\n",
    "Pythonはプログラミング言語の1つです．心理学講座で知られているRやMatlabの仲間です．<br>\n",
    "さしあたり無料版Matlabのようなものですが，より広い用途で利用できるのが利点です．<br>\n",
    "ただし，RやMatlabと違うポイントが (最初のハマりどころ的に) 2つあります．<br>\n",
    "\n",
    "※ どちらかと言えばR / Matlabが特殊で，Python自体は至って普通のプログラミング言語です．\n",
    "\n",
    "### 0.1.1. 組み込みの機能\n",
    "\n",
    "組み込みの機能だけでできることは限られます．\n",
    "例えば，そのままでは平均を求めることさえできません．"
   ]
  },
  {
   "cell_type": "code",
   "execution_count": 2,
   "metadata": {
    "collapsed": false
   },
   "outputs": [
    {
     "ename": "NameError",
     "evalue": "name 'mean' is not defined",
     "output_type": "error",
     "traceback": [
      "\u001b[0;31m---------------------------------------------------------------------------\u001b[0m",
      "\u001b[0;31mNameError\u001b[0m                                 Traceback (most recent call last)",
      "\u001b[0;32m<ipython-input-2-cb8f1bec2fe1>\u001b[0m in \u001b[0;36m<module>\u001b[0;34m()\u001b[0m\n\u001b[1;32m      1\u001b[0m \u001b[0mx\u001b[0m \u001b[0;34m=\u001b[0m \u001b[0;34m[\u001b[0m\u001b[0;36m1\u001b[0m\u001b[0;34m,\u001b[0m \u001b[0;36m2\u001b[0m\u001b[0;34m,\u001b[0m \u001b[0;36m3\u001b[0m\u001b[0;34m]\u001b[0m\u001b[0;34m\u001b[0m\u001b[0m\n\u001b[0;32m----> 2\u001b[0;31m \u001b[0mmean\u001b[0m\u001b[0;34m(\u001b[0m\u001b[0mx\u001b[0m\u001b[0;34m)\u001b[0m  \u001b[0;31m# meanという関数はデフォルトでは存在しない．\u001b[0m\u001b[0;34m\u001b[0m\u001b[0m\n\u001b[0m",
      "\u001b[0;31mNameError\u001b[0m: name 'mean' is not defined"
     ]
    }
   ],
   "source": [
    "x = [1, 2, 3]\n",
    "mean(x)  # meanという関数はデフォルトでは存在しない．"
   ]
  },
  {
   "cell_type": "markdown",
   "metadata": {},
   "source": [
    "Pythonで何かをするには，それに対応したライブラリを読み込んで，その機能を使います．"
   ]
  },
  {
   "cell_type": "code",
   "execution_count": 3,
   "metadata": {
    "collapsed": false
   },
   "outputs": [
    {
     "data": {
      "text/plain": [
       "2.0"
      ]
     },
     "execution_count": 3,
     "metadata": {},
     "output_type": "execute_result"
    }
   ],
   "source": [
    "import numpy as np  # 数値計算ライブラリ「numpy」を，npという名前で読み込んだ．\n",
    "np.mean(x)"
   ]
  },
  {
   "cell_type": "markdown",
   "metadata": {},
   "source": [
    "RやMatlabと違って，平均を求めるためには毎回***np***.meanと打ち込む必要があります．<br>\n",
    "これは，関数の名前が衝突することのある汎用言語にとって必要なひと手間なので慣れるしかないです．\n",
    "\n",
    "### 0.1.2. インデックス\n",
    "\n",
    "もう1つの相違点は，インデックス指定が0始まりだということです．<br>\n",
    "この機能も本当はちゃんと合理的なのですが，少なくとも直感的ではないです．慣れましょう．"
   ]
  },
  {
   "cell_type": "code",
   "execution_count": 4,
   "metadata": {
    "collapsed": false
   },
   "outputs": [
    {
     "data": {
      "text/plain": [
       "u'two'"
      ]
     },
     "execution_count": 4,
     "metadata": {},
     "output_type": "execute_result"
    }
   ],
   "source": [
    "x = ['one', 'two', 'three']\n",
    "x[1]  # 1番目ではなく，2番目の要素が取り出される．"
   ]
  },
  {
   "cell_type": "markdown",
   "metadata": {},
   "source": [
    "## 0.2. 便利なライブラリ\n",
    "### 0.2.1. NumPy\n",
    "あまりに有名で使いやすい数値計算ライブラリ．Matlabの行列と似たような使い勝手です．"
   ]
  },
  {
   "cell_type": "code",
   "execution_count": 5,
   "metadata": {
    "collapsed": true
   },
   "outputs": [],
   "source": [
    "import numpy as np"
   ]
  },
  {
   "cell_type": "code",
   "execution_count": 6,
   "metadata": {
    "collapsed": true
   },
   "outputs": [],
   "source": [
    "x = np.array([[1, 2, 3],\n",
    "              [4, 5, -6],\n",
    "              [7, 8, 999]])"
   ]
  },
  {
   "cell_type": "code",
   "execution_count": 7,
   "metadata": {
    "collapsed": false
   },
   "outputs": [
    {
     "data": {
      "text/plain": [
       "array([[  10,   20,   30],\n",
       "       [  40,   50,  -60],\n",
       "       [  70,   80, 9990]])"
      ]
     },
     "execution_count": 7,
     "metadata": {},
     "output_type": "execute_result"
    }
   ],
   "source": [
    "x * 10"
   ]
  },
  {
   "cell_type": "code",
   "execution_count": 8,
   "metadata": {
    "collapsed": false
   },
   "outputs": [
    {
     "data": {
      "text/plain": [
       "-6"
      ]
     },
     "execution_count": 8,
     "metadata": {},
     "output_type": "execute_result"
    }
   ],
   "source": [
    "x.min()"
   ]
  },
  {
   "cell_type": "code",
   "execution_count": 9,
   "metadata": {
    "collapsed": false
   },
   "outputs": [
    {
     "data": {
      "text/plain": [
       "array([[  1,   2,   3],\n",
       "       [  4,   5,   6],\n",
       "       [  7,   8, 999]])"
      ]
     },
     "execution_count": 9,
     "metadata": {},
     "output_type": "execute_result"
    }
   ],
   "source": [
    "np.absolute(x)"
   ]
  },
  {
   "cell_type": "code",
   "execution_count": 10,
   "metadata": {
    "collapsed": false
   },
   "outputs": [
    {
     "data": {
      "text/plain": [
       "array([[False, False, False],\n",
       "       [False, False, False],\n",
       "       [False, False,  True]], dtype=bool)"
      ]
     },
     "execution_count": 10,
     "metadata": {},
     "output_type": "execute_result"
    }
   ],
   "source": [
    "x >= 100"
   ]
  },
  {
   "cell_type": "markdown",
   "metadata": {},
   "source": [
    "### 0.2.2. Pandas\n",
    "Excel表のようなデータフレームを扱うライブラリ．Rのdata.frameと似たような使い勝手です．"
   ]
  },
  {
   "cell_type": "code",
   "execution_count": 11,
   "metadata": {
    "collapsed": false
   },
   "outputs": [],
   "source": [
    "import pandas as pd"
   ]
  },
  {
   "cell_type": "code",
   "execution_count": 12,
   "metadata": {
    "collapsed": false
   },
   "outputs": [],
   "source": [
    "x = np.array([[15, 1, 160, 50],\n",
    "              [18, 0, 165, 53],\n",
    "              [22, 1, 174, 62],\n",
    "              [45, 0, 158, 54],\n",
    "              [48, 1, 170, 58]])"
   ]
  },
  {
   "cell_type": "code",
   "execution_count": 13,
   "metadata": {
    "collapsed": false
   },
   "outputs": [],
   "source": [
    "df = pd.DataFrame(x, index=['次男', '長女', '長男', '母', '父'],\n",
    "                  columns=['年齢', '性別', '身長', '体重'])"
   ]
  },
  {
   "cell_type": "code",
   "execution_count": 14,
   "metadata": {
    "collapsed": false
   },
   "outputs": [
    {
     "data": {
      "text/html": [
       "<div>\n",
       "<table border=\"1\" class=\"dataframe\">\n",
       "  <thead>\n",
       "    <tr style=\"text-align: right;\">\n",
       "      <th></th>\n",
       "      <th>年齢</th>\n",
       "      <th>性別</th>\n",
       "      <th>身長</th>\n",
       "      <th>体重</th>\n",
       "    </tr>\n",
       "  </thead>\n",
       "  <tbody>\n",
       "    <tr>\n",
       "      <th>次男</th>\n",
       "      <td>15</td>\n",
       "      <td>1</td>\n",
       "      <td>160</td>\n",
       "      <td>50</td>\n",
       "    </tr>\n",
       "    <tr>\n",
       "      <th>長女</th>\n",
       "      <td>18</td>\n",
       "      <td>0</td>\n",
       "      <td>165</td>\n",
       "      <td>53</td>\n",
       "    </tr>\n",
       "    <tr>\n",
       "      <th>長男</th>\n",
       "      <td>22</td>\n",
       "      <td>1</td>\n",
       "      <td>174</td>\n",
       "      <td>62</td>\n",
       "    </tr>\n",
       "    <tr>\n",
       "      <th>母</th>\n",
       "      <td>45</td>\n",
       "      <td>0</td>\n",
       "      <td>158</td>\n",
       "      <td>54</td>\n",
       "    </tr>\n",
       "    <tr>\n",
       "      <th>父</th>\n",
       "      <td>48</td>\n",
       "      <td>1</td>\n",
       "      <td>170</td>\n",
       "      <td>58</td>\n",
       "    </tr>\n",
       "  </tbody>\n",
       "</table>\n",
       "</div>"
      ],
      "text/plain": [
       "    年齢  性別   身長  体重\n",
       "次男  15   1  160  50\n",
       "長女  18   0  165  53\n",
       "長男  22   1  174  62\n",
       "母   45   0  158  54\n",
       "父   48   1  170  58"
      ]
     },
     "execution_count": 14,
     "metadata": {},
     "output_type": "execute_result"
    }
   ],
   "source": [
    "df"
   ]
  },
  {
   "cell_type": "code",
   "execution_count": 15,
   "metadata": {
    "collapsed": false
   },
   "outputs": [
    {
     "data": {
      "text/plain": [
       "170"
      ]
     },
     "execution_count": 15,
     "metadata": {},
     "output_type": "execute_result"
    }
   ],
   "source": [
    "df.loc['父', '身長']  # location"
   ]
  },
  {
   "cell_type": "code",
   "execution_count": 16,
   "metadata": {
    "collapsed": false
   },
   "outputs": [
    {
     "data": {
      "text/plain": [
       "15"
      ]
     },
     "execution_count": 16,
     "metadata": {},
     "output_type": "execute_result"
    }
   ],
   "source": [
    "df.iloc[0, 0]  # index location"
   ]
  },
  {
   "cell_type": "code",
   "execution_count": 17,
   "metadata": {
    "collapsed": false,
    "scrolled": true
   },
   "outputs": [
    {
     "data": {
      "text/plain": [
       "次男    160\n",
       "長女    165\n",
       "長男    174\n",
       "母     158\n",
       "父     170\n",
       "Name: 身長, dtype: int64"
      ]
     },
     "execution_count": 17,
     "metadata": {},
     "output_type": "execute_result"
    }
   ],
   "source": [
    "df['身長']"
   ]
  },
  {
   "cell_type": "code",
   "execution_count": 18,
   "metadata": {
    "collapsed": false
   },
   "outputs": [
    {
     "data": {
      "text/plain": [
       "<matplotlib.axes._subplots.AxesSubplot at 0x10d13e550>"
      ]
     },
     "execution_count": 18,
     "metadata": {},
     "output_type": "execute_result"
    },
    {
     "data": {
      "image/png": "[encoded data removed]",
      "text/plain": [
       "<matplotlib.figure.Figure at 0x10a9d5890>"
      ]
     },
     "metadata": {},
     "output_type": "display_data"
    }
   ],
   "source": [
    "df['身長'].plot(kind='bar')"
   ]
  },
  {
   "cell_type": "code",
   "execution_count": 19,
   "metadata": {
    "collapsed": false,
    "scrolled": true
   },
   "outputs": [
    {
     "data": {
      "text/html": [
       "<div>\n",
       "<table border=\"1\" class=\"dataframe\">\n",
       "  <thead>\n",
       "    <tr style=\"text-align: right;\">\n",
       "      <th></th>\n",
       "      <th>年齢</th>\n",
       "      <th>性別</th>\n",
       "      <th>身長</th>\n",
       "      <th>体重</th>\n",
       "    </tr>\n",
       "  </thead>\n",
       "  <tbody>\n",
       "    <tr>\n",
       "      <th>次男</th>\n",
       "      <td>15</td>\n",
       "      <td>1</td>\n",
       "      <td>160</td>\n",
       "      <td>50</td>\n",
       "    </tr>\n",
       "    <tr>\n",
       "      <th>長男</th>\n",
       "      <td>22</td>\n",
       "      <td>1</td>\n",
       "      <td>174</td>\n",
       "      <td>62</td>\n",
       "    </tr>\n",
       "    <tr>\n",
       "      <th>父</th>\n",
       "      <td>48</td>\n",
       "      <td>1</td>\n",
       "      <td>170</td>\n",
       "      <td>58</td>\n",
       "    </tr>\n",
       "  </tbody>\n",
       "</table>\n",
       "</div>"
      ],
      "text/plain": [
       "    年齢  性別   身長  体重\n",
       "次男  15   1  160  50\n",
       "長男  22   1  174  62\n",
       "父   48   1  170  58"
      ]
     },
     "execution_count": 19,
     "metadata": {},
     "output_type": "execute_result"
    }
   ],
   "source": [
    "df.loc[df['性別'] == 1, :]"
   ]
  },
  {
   "cell_type": "markdown",
   "metadata": {},
   "source": [
    "### 0.2.3. PsychoPy\n",
    "\n",
    "誤解されがちですが，PsychoPy自体はただのライブラリです．\n",
    "\n",
    "例えば「Matlab」は，「Matlabというソフト (開発環境)」と「Matlabという言語」の両方の意味があります．「Matlab言語」は本当にただの言語で，メモ帳で作って実行することもできるのですが，普通は「Matlabというソフト」を使って開発しています．\n",
    "\n",
    "同様に，「PsychoPy」は，「PsychoPyという開発環境」と「PsychoPyというライブラリ」の両方の意味があります．おそらく，「Pythonで実験するためのライブラリを作ろうぜ！」と考えていた人が，そのうち，「せっかくだから楽々実験キットみたいなの作ろうぜ！」と思い始めて，PsychoPyというソフトが制作されたのだと思います．\n",
    "\n",
    "そういうことなので，PsychoPyというソフトを使わなくてもPsychoPyというライブラリは使えます．以下に例を示します．"
   ]
  },
  {
   "cell_type": "code",
   "execution_count": 20,
   "metadata": {
    "collapsed": true
   },
   "outputs": [],
   "source": [
    "from psychopy import visual, core"
   ]
  },
  {
   "cell_type": "code",
   "execution_count": 21,
   "metadata": {
    "collapsed": false
   },
   "outputs": [
    {
     "name": "stdout",
     "output_type": "stream",
     "text": [
      "1.3236 \tWARNING \tMonitor specification not found. Creating a temporary one...\n"
     ]
    }
   ],
   "source": [
    "win = visual.Window()  # 実験ウィンドウを開いて\n",
    "core.wait(3)  # 3秒待ち\n",
    "win.close()  # 閉じる"
   ]
  },
  {
   "cell_type": "markdown",
   "metadata": {},
   "source": [
    "PsychoPy Corderは開発環境として完全ではないです．補完機能とか弱いし．<br>\n",
    "現時点で最も効率のよい実験プログラム作成の方法は，今使っているJupyter Notebookで刺激の見た目や挙動を随時デバッグしながら作業を進めていくことだと思います．"
   ]
  },
  {
   "cell_type": "markdown",
   "metadata": {},
   "source": [
    "## 0.3. 開発環境\n",
    "今回は複数の開発環境を用います．\n",
    "\n",
    "### 0.3.1. Jupyter Notebook\n",
    "\n",
    "今使っているものです．\n",
    "おそらくPythonで何かをするにあたって最も便利です．ついでにRも使えます．その気に慣ればMatlabとかOctaveも使えるるらしいです．\n",
    "\n",
    "### 0.3.2. PsychoPy Builder / Corder\n",
    "\n",
    "PsychoPyのプログラムを実行するときに (だけ) 使います．"
   ]
  },
  {
   "cell_type": "markdown",
   "metadata": {},
   "source": [
    "## 0.4. バージョン問題\n",
    "\n",
    "Pythonには「2系」と「3系」があります．3系は色々な点で2系よりも優れており，2系よりもおすすめですが，唯一の欠点として後方互換性が切り捨てられています．<br>\n",
    "これにより，3系ではPsychoPyが動きません (逆に，われわれに必要なもののうち，PsychoPy以外のものは全て動きます)．\n",
    "\n",
    "今回は3系を使いつつ，PsychoPyを使う必要があるときだけ2系を使うことにします．"
   ]
  }
 ],
 "metadata": {
  "kernelspec": {
   "display_name": "Python [conda env:python2]",
   "language": "python",
   "name": "conda-env-python2-py"
  },
  "language_info": {
   "codemirror_mode": {
    "name": "ipython",
    "version": 2
   },
   "file_extension": ".py",
   "mimetype": "text/x-python",
   "name": "python",
   "nbconvert_exporter": "python",
   "pygments_lexer": "ipython2",
   "version": "2.7.12"
  }
 },
 "nbformat": 4,
 "nbformat_minor": 2
}
