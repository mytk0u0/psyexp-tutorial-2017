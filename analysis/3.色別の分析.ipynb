{
 "cells": [
  {
   "cell_type": "code",
   "execution_count": 1,
   "metadata": {
    "collapsed": false
   },
   "outputs": [],
   "source": [
    "%matplotlib inline\n",
    "%load_ext rpy2.ipython"
   ]
  },
  {
   "cell_type": "code",
   "execution_count": 2,
   "metadata": {
    "collapsed": true
   },
   "outputs": [],
   "source": [
    "import numpy as np\n",
    "import pandas as pd\n",
    "import matplotlib.pyplot as plt\n",
    "from scipy import stats"
   ]
  },
  {
   "cell_type": "markdown",
   "metadata": {},
   "source": [
    "## 1. 前処理 (続き)"
   ]
  },
  {
   "cell_type": "code",
   "execution_count": 3,
   "metadata": {
    "collapsed": false
   },
   "outputs": [
    {
     "data": {
      "text/html": [
       "<div>\n",
       "<table border=\"1\" class=\"dataframe\">\n",
       "  <thead>\n",
       "    <tr style=\"text-align: right;\">\n",
       "      <th></th>\n",
       "      <th>subj</th>\n",
       "      <th>ink</th>\n",
       "      <th>text</th>\n",
       "      <th>RT</th>\n",
       "    </tr>\n",
       "  </thead>\n",
       "  <tbody>\n",
       "    <tr>\n",
       "      <th>0</th>\n",
       "      <td>1</td>\n",
       "      <td>B</td>\n",
       "      <td>緑</td>\n",
       "      <td>415.0</td>\n",
       "    </tr>\n",
       "    <tr>\n",
       "      <th>1</th>\n",
       "      <td>1</td>\n",
       "      <td>B</td>\n",
       "      <td>赤</td>\n",
       "      <td>530.0</td>\n",
       "    </tr>\n",
       "    <tr>\n",
       "      <th>2</th>\n",
       "      <td>1</td>\n",
       "      <td>B</td>\n",
       "      <td>青</td>\n",
       "      <td>372.0</td>\n",
       "    </tr>\n",
       "    <tr>\n",
       "      <th>3</th>\n",
       "      <td>1</td>\n",
       "      <td>G</td>\n",
       "      <td>緑</td>\n",
       "      <td>453.0</td>\n",
       "    </tr>\n",
       "    <tr>\n",
       "      <th>4</th>\n",
       "      <td>1</td>\n",
       "      <td>G</td>\n",
       "      <td>赤</td>\n",
       "      <td>557.0</td>\n",
       "    </tr>\n",
       "  </tbody>\n",
       "</table>\n",
       "</div>"
      ],
      "text/plain": [
       "   subj ink text     RT\n",
       "0     1   B    緑  415.0\n",
       "1     1   B    赤  530.0\n",
       "2     1   B    青  372.0\n",
       "3     1   G    緑  453.0\n",
       "4     1   G    赤  557.0"
      ]
     },
     "execution_count": 3,
     "metadata": {},
     "output_type": "execute_result"
    }
   ],
   "source": [
    "df = pd.read_csv('result_color.csv')\n",
    "df.head()"
   ]
  },
  {
   "cell_type": "code",
   "execution_count": 4,
   "metadata": {
    "collapsed": true
   },
   "outputs": [],
   "source": [
    "df_groupby = df.groupby(by=['ink', 'text'])\n",
    "df_mean = df_groupby['RT'].mean()\n",
    "df_sem = df_groupby['RT'].sem()"
   ]
  },
  {
   "cell_type": "code",
   "execution_count": 5,
   "metadata": {
    "collapsed": true
   },
   "outputs": [],
   "source": [
    "def cilen(arr, alpha=0.95):  # 両側95%信頼区間\n",
    "    m, e, df = np.mean(arr), stats.sem(arr), len(arr) - 1\n",
    "    interval = stats.t.interval(alpha, df, loc=m, scale=e)\n",
    "    cilen = np.max(interval) - np.mean(interval)\n",
    "    return cilen\n",
    "\n",
    "df_ci = df_groupby['RT'].apply(cilen)"
   ]
  },
  {
   "cell_type": "markdown",
   "metadata": {},
   "source": [
    "## 2. 可視化 (棒グラフ)\n",
    "2要因の場合，論文用の図を作るのは，慣れなければ辛かったりする．無理せずExcelのほうが良いかもしれない．<br>\n",
    "作図方法については[公式のギャラリー](http://matplotlib.org/gallery.html)を参照すると良い．\n",
    "\n",
    "※ 特に，matplotlibと棒グラフは**すこぶる**相性が悪い．"
   ]
  },
  {
   "cell_type": "code",
   "execution_count": 6,
   "metadata": {
    "collapsed": false,
    "scrolled": true
   },
   "outputs": [
    {
     "data": {
      "text/html": [
       "<div>\n",
       "<table border=\"1\" class=\"dataframe\">\n",
       "  <thead>\n",
       "    <tr style=\"text-align: right;\">\n",
       "      <th>text</th>\n",
       "      <th>緑</th>\n",
       "      <th>赤</th>\n",
       "      <th>青</th>\n",
       "    </tr>\n",
       "    <tr>\n",
       "      <th>ink</th>\n",
       "      <th></th>\n",
       "      <th></th>\n",
       "      <th></th>\n",
       "    </tr>\n",
       "  </thead>\n",
       "  <tbody>\n",
       "    <tr>\n",
       "      <th>B</th>\n",
       "      <td>471.091667</td>\n",
       "      <td>486.433333</td>\n",
       "      <td>402.950000</td>\n",
       "    </tr>\n",
       "    <tr>\n",
       "      <th>G</th>\n",
       "      <td>398.933333</td>\n",
       "      <td>482.543333</td>\n",
       "      <td>485.033333</td>\n",
       "    </tr>\n",
       "    <tr>\n",
       "      <th>R</th>\n",
       "      <td>466.000000</td>\n",
       "      <td>357.250000</td>\n",
       "      <td>448.750000</td>\n",
       "    </tr>\n",
       "  </tbody>\n",
       "</table>\n",
       "</div>"
      ],
      "text/plain": [
       "text           緑           赤           青\n",
       "ink                                     \n",
       "B     471.091667  486.433333  402.950000\n",
       "G     398.933333  482.543333  485.033333\n",
       "R     466.000000  357.250000  448.750000"
      ]
     },
     "execution_count": 6,
     "metadata": {},
     "output_type": "execute_result"
    }
   ],
   "source": [
    "table_mean = df_mean.unstack()\n",
    "table_sem = df_sem.unstack()\n",
    "table_ci = df_ci.unstack()\n",
    "table_mean"
   ]
  },
  {
   "cell_type": "markdown",
   "metadata": {},
   "source": [
    "### 2.1. ざっくりプロット"
   ]
  },
  {
   "cell_type": "code",
   "execution_count": 7,
   "metadata": {
    "collapsed": false
   },
   "outputs": [
    {
     "data": {
      "text/plain": [
       "<matplotlib.axes._subplots.AxesSubplot at 0x112dd8be0>"
      ]
     },
     "execution_count": 7,
     "metadata": {},
     "output_type": "execute_result"
    },
    {
     "data": {
      "image/png": "[encoded data removed]",
      "text/plain": [
       "<matplotlib.figure.Figure at 0x112c74978>"
      ]
     },
     "metadata": {},
     "output_type": "display_data"
    }
   ],
   "source": [
    "table_mean.plot(kind='bar', yerr=table_ci)"
   ]
  },
  {
   "cell_type": "markdown",
   "metadata": {},
   "source": [
    "### 2.2. しっかりプロット"
   ]
  },
  {
   "cell_type": "code",
   "execution_count": 8,
   "metadata": {
    "collapsed": false
   },
   "outputs": [
    {
     "data": {
      "image/png": "[encoded data removed]",
      "text/plain": [
       "<matplotlib.figure.Figure at 0x11319d710>"
      ]
     },
     "metadata": {},
     "output_type": "display_data"
    }
   ],
   "source": [
    "fig, ax = plt.subplots(figsize=(10, 5))\n",
    "\n",
    "table_mean.plot(\n",
    "    kind='bar',\n",
    "    rot=0,\n",
    "    yerr=table_ci,\n",
    "    color=[[1, 0, 0, 0.5], [0, 1, 0, 0.5], [0, 0, 1, 0.5]],  # in RGBa\n",
    "    fontsize=20,\n",
    "    legend=False,\n",
    "    ax=ax\n",
    "    )\n",
    "\n",
    "ax.set_xlabel('インクの色', fontsize=20)\n",
    "ax.set_ylabel('反応時間 (ms)', fontsize=20)\n",
    "ax.set_xticklabels(['赤', '緑', '青'])\n",
    "ax.set_ylim(300, 550)\n",
    "ax.legend(frameon=False, fontsize=20, bbox_to_anchor=(1.2, 1.0))\n",
    "ax.spines['right'].set_visible(False)\n",
    "ax.spines['top'].set_visible(False)"
   ]
  },
  {
   "cell_type": "markdown",
   "metadata": {},
   "source": [
    "###  2.3. がっつりプロット\n",
    "もはやおまけ編．何もかも完全に指定しようとするといつの間にかこんな感じになる．でもここまでやるならExcelでいいと思います．\n",
    "\n",
    "なぜこんなに面倒なのかというと，matplotlibの棒グラフは，「xの位置に高さyの棒を書く」ことによって作図されるためです．<br>\n",
    "つまり，棒を置きたいx座標を全部自分で指定する必要があります．"
   ]
  },
  {
   "cell_type": "code",
   "execution_count": 9,
   "metadata": {
    "collapsed": false
   },
   "outputs": [
    {
     "data": {
      "image/png": "[encoded data removed]",
      "text/plain": [
       "<matplotlib.figure.Figure at 0x113263f60>"
      ]
     },
     "metadata": {},
     "output_type": "display_data"
    }
   ],
   "source": [
    "rownames= ['R', 'G', 'B']\n",
    "colnames = ['赤', '緑', '青']\n",
    "table_mean = table_mean.loc[rownames, colnames]  # RGBで並び替えしておく\n",
    "table_sem = table_sem.loc[rownames, colnames]\n",
    "table_ci = table_ci.loc[rownames, colnames]\n",
    "\n",
    "ymin, ymax = 300, 600\n",
    "nrow, ncol = table_mean.shape\n",
    "xticks = np.arange(nrow)\n",
    "yticks = np.arange(ymin, ymax + 1, 50)\n",
    "margin = (xticks.max() - xticks.min()) * 0.2\n",
    "width = 1 / (ncol + 1)\n",
    "xfix = width * (np.arange(ncol) - np.arange(ncol).mean())\n",
    "hatches = ['/', '+', 'o']\n",
    "\n",
    "fig, ax = plt.subplots(figsize=(10, 5))\n",
    "\n",
    "for i in range(ncol):\n",
    "    x = xticks + xfix[i]\n",
    "    y = table_mean.iloc[:, i].values\n",
    "    yerr = table_ci.iloc[:, i].values\n",
    "    ax.bar(x, y, width=width,\n",
    "           edgecolor='black', color='white', hatch=hatches[i], label=colnames[i])\n",
    "    ax.errorbar(x, y, yerr, color='black', fmt='.', capsize=10)\n",
    "    \n",
    "ax.legend(title='テキスト', frameon=False, fontsize=20, bbox_to_anchor=(1.2, 1.0))\n",
    "ax.get_legend().get_title().set_fontsize(20)\n",
    "\n",
    "ax.set_xlabel('インクの色', fontsize=20)\n",
    "ax.set_xlim(-margin, max(xticks) + margin)\n",
    "ax.set_xticks(xticks)\n",
    "ax.set_xticklabels(colnames, fontsize=20)\n",
    "\n",
    "ax.set_ylabel('反応時間 (ms)', fontsize=20)\n",
    "ax.set_ylim(ymin, ymax)\n",
    "ax.set_yticks(yticks)\n",
    "ax.set_yticklabels(yticks, fontsize=20)\n",
    "\n",
    "ax.spines['right'].set_visible(False)\n",
    "ax.spines['top'].set_visible(False)\n",
    "ax.xaxis.set_ticks_position('bottom')\n",
    "ax.yaxis.set_ticks_position('left')"
   ]
  },
  {
   "cell_type": "markdown",
   "metadata": {},
   "source": [
    "## 3. 分析 (分散分析)\n",
    "やっぱりRが一番強い"
   ]
  },
  {
   "cell_type": "code",
   "execution_count": 10,
   "metadata": {
    "collapsed": false
   },
   "outputs": [
    {
     "data": {
      "text/plain": [
       "  subj ink text  RT\n",
       "1    1   B   緑 415\n",
       "2    1   B   赤 530\n",
       "3    1   B   青 372\n",
       "4    1   G   緑 453\n",
       "5    1   G   赤 557\n",
       "6    1   G   青 407\n"
      ]
     },
     "metadata": {},
     "output_type": "display_data"
    }
   ],
   "source": [
    "%%R\n",
    "source('anovakun_462.txt')\n",
    "dat <- read.csv('result_color.csv')\n",
    "head(dat)"
   ]
  },
  {
   "cell_type": "code",
   "execution_count": 11,
   "metadata": {
    "collapsed": false,
    "scrolled": false
   },
   "outputs": [
    {
     "data": {
      "text/plain": [
       "\n",
       "[ sAB-Type Design ] \n",
       " \n",
       "This output was generated by anovakun 4.6.2 under R version 3.3.2. \n",
       "It was executed on Sun Feb 12 03:43:36 2017. \n",
       " \n",
       " \n",
       "<< DESCRIPTIVE STATISTICS >>\n",
       "\n",
       "------------------------------------\n",
       " ink  text   n      Mean     S.D. \n",
       "------------------------------------\n",
       "   B   緑  20  471.0917  56.3254 \n",
       "   B   赤  20  486.4333  55.1301 \n",
       "   B   青  20  402.9500  50.5272 \n",
       "   G   緑  20  398.9333  49.2082 \n",
       "   G   赤  20  482.5433  59.6505 \n",
       "   G   青  20  485.0333  56.4329 \n",
       "   R   緑  20  466.0000  50.0852 \n",
       "   R   赤  20  357.2500  48.8577 \n",
       "   R   青  20  448.7500  58.8325 \n",
       "------------------------------------\n",
       "\n",
       "\n",
       "<< SPHERICITY INDICES >>\n",
       "\n",
       "== Mendoza's Multisample Sphericity Test and Epsilons == \n",
       " \n",
       "----------------------------------------------------------------------------\n",
       "     Effect  Lambda  approx.Chi  df       p         LB     GG     HF     CM \n",
       "----------------------------------------------------------------------------\n",
       "     Global  0.0000     32.2165  35  0.6242 ns  0.1250 0.7020 1.0304 0.9979 \n",
       "        ink  0.1312      3.8490   2  0.1460 ns  0.5000 0.8386 0.9104 0.8817 \n",
       "       text  0.5182      1.2456   2  0.5364 ns  0.5000 0.9373 1.0363 1.0036 \n",
       " ink x text  0.0089      8.6538   9  0.4718 ns  0.2500 0.8352 1.0348 1.0022 \n",
       "----------------------------------------------------------------------------\n",
       "                                  LB = lower.bound, GG = Greenhouse-Geisser \n",
       "                                  HF = Huynh-Feldt-Lecoutre, CM = Chi-Muller \n",
       " \n",
       " \n",
       "<< ANOVA TABLE >>\n",
       "\n",
       "----------------------------------------------------------------------------\n",
       "         Source           SS  df          MS  F-ratio  p-value      p.eta^2 \n",
       "----------------------------------------------------------------------------\n",
       "              s   50807.5794  19   2674.0831        \n",
       "----------------------------------------------------------------------------\n",
       "            ink   37325.3043   2  18662.6522   8.0041   0.0013 **    0.2964 \n",
       "        s x ink   88602.3939  38   2331.6419        \n",
       "----------------------------------------------------------------------------\n",
       "           text     459.7758   2    229.8879   0.0618   0.9401 ns    0.0032 \n",
       "       s x text  141304.3543  38   3718.5356        \n",
       "----------------------------------------------------------------------------\n",
       "     ink x text  311237.1416   4  77809.2854  27.0368   0.0000 ***   0.5873 \n",
       " s x ink x text  218720.2512  76   2877.8980        \n",
       "----------------------------------------------------------------------------\n",
       "          Total  848456.8006 179 \n",
       "                                 +p < .10, *p < .05, **p < .01, ***p < .001 \n",
       "\n",
       " \n",
       "<< POST ANALYSES >>\n",
       "\n",
       "< MULTIPLE COMPARISON for \"ink\" >\n",
       "\n",
       "== Holm's Sequentially Rejective Bonferroni Procedure ==\n",
       "== The factor < ink > is analysed as dependent means. == \n",
       "== Alpha level is 0.05. == \n",
       " \n",
       "------------------------------\n",
       " ink   n      Mean     S.D. \n",
       "------------------------------\n",
       "   B  60  453.4917  64.5086 \n",
       "   G  60  455.5033  67.6718 \n",
       "   R  60  424.0000  70.7613 \n",
       "------------------------------\n",
       "\n",
       "---------------------------------------------------------\n",
       " Pair      Diff  t-value  df        p    adj.p           \n",
       "---------------------------------------------------------\n",
       "  B-R   29.4917   4.4619  19   0.0003   0.0008   B > R * \n",
       "  G-R   31.5033   3.2692  19   0.0040   0.0081   G > R * \n",
       "  B-G   -2.0117   0.2047  19   0.8400   0.8400   B = G   \n",
       "---------------------------------------------------------\n",
       "\n",
       "\n",
       "< SIMPLE EFFECTS for \"ink x text\" INTERACTION >\n",
       "\n",
       "--------------------------------------------------------------------------\n",
       "    Effect  Lambda  approx.Chi df       p         LB     GG     HF     CM \n",
       "--------------------------------------------------------------------------\n",
       "ink at 緑  0.2138      2.9234  2  0.2318 ns  0.5000 0.8696 0.9497 0.9198 \n",
       "ink at 赤  0.9165      0.1652  2  0.9207 ns  0.5000 0.9909 1.1058 1.0710 \n",
       "ink at 青  0.8344      0.3430  2  0.8424 ns  0.5000 0.9815 1.0935 1.0590 \n",
       " text at B  0.6531      0.8072  2  0.6679 ns  0.5000 0.9580 1.0630 1.0295 \n",
       " text at G  0.9817      0.0351  2  0.9826 ns  0.5000 0.9981 1.1151 1.0800 \n",
       " text at R  0.4224      1.6330  2  0.4420 ns  0.5000 0.9202 1.0142 0.9823 \n",
       "--------------------------------------------------------------------------\n",
       "                                LB = lower.bound, GG = Greenhouse-Geisser \n",
       "                                HF = Huynh-Feldt-Lecoutre, CM = Chi-Muller \n",
       " \n",
       " \n",
       "----------------------------------------------------------------------------\n",
       "        Source           SS  df           MS  F-ratio  p-value      p.eta^2 \n",
       "----------------------------------------------------------------------------\n",
       "    ink at 緑   64871.2528   2   32435.6264  13.6504   0.0000 ***   0.4181 \n",
       "s x ink at 緑   90294.2657  38    2376.1649         \n",
       "----------------------------------------------------------------------------\n",
       "    ink at 赤  216012.5673   2  108006.2836  34.4564   0.0000 ***   0.6446 \n",
       "s x ink at 赤  119113.8387  38    3134.5747         \n",
       "----------------------------------------------------------------------------\n",
       "    ink at 青   67678.6259   2   33839.3130  13.1328   0.0000 ***   0.4087 \n",
       "s x ink at 青   97914.5407  38    2576.6984         \n",
       "----------------------------------------------------------------------------\n",
       "     text at B   78987.4694   2   39493.7347  12.5081   0.0001 ***   0.3970 \n",
       " s x text at B  119982.8639  38    3157.4438         \n",
       "----------------------------------------------------------------------------\n",
       "     text at G   96066.9480   2   48033.4740  16.6846   0.0000 ***   0.4676 \n",
       " s x text at G  109398.4320  38    2878.9061         \n",
       "----------------------------------------------------------------------------\n",
       "     text at R  136642.5000   2   68321.2500  19.8725   0.0000 ***   0.5112 \n",
       " s x text at R  130643.3096  38    3437.9818         \n",
       "----------------------------------------------------------------------------\n",
       "                                +p < .10, *p < .05, **p < .01, ***p < .001 \n",
       " \n",
       "\n",
       "< MULTIPLE COMPARISON for \"ink at 緑\" >\n",
       "\n",
       "== Holm's Sequentially Rejective Bonferroni Procedure ==\n",
       "== The factor < ink at 緑 > is analysed as dependent means. == \n",
       "== Alpha level is 0.05. == \n",
       " \n",
       "----------------------------------------------------------\n",
       " Pair       Diff  t-value  df        p    adj.p           \n",
       "----------------------------------------------------------\n",
       "  G-R   -67.0667   5.4060  19   0.0000   0.0001   G < R * \n",
       "  B-G    72.1583   4.5968  19   0.0002   0.0004   B > G * \n",
       "  B-R     5.0917   0.2880  19   0.7765   0.7765   B = R   \n",
       "----------------------------------------------------------\n",
       "\n",
       "\n",
       "< MULTIPLE COMPARISON for \"ink at 赤\" >\n",
       "\n",
       "== Holm's Sequentially Rejective Bonferroni Procedure ==\n",
       "== The factor < ink at 赤 > is analysed as dependent means. == \n",
       "== Alpha level is 0.05. == \n",
       " \n",
       "----------------------------------------------------------\n",
       " Pair       Diff  t-value  df        p    adj.p           \n",
       "----------------------------------------------------------\n",
       "  B-R   129.1833   7.4326  19   0.0000   0.0000   B > R * \n",
       "  G-R   125.2933   7.2932  19   0.0000   0.0000   G > R * \n",
       "  B-G     3.8900   0.2100  19   0.8359   0.8359   B = G   \n",
       "----------------------------------------------------------\n",
       "\n",
       "\n",
       "< MULTIPLE COMPARISON for \"ink at 青\" >\n",
       "\n",
       "== Holm's Sequentially Rejective Bonferroni Procedure ==\n",
       "== The factor < ink at 青 > is analysed as dependent means. == \n",
       "== Alpha level is 0.05. == \n",
       " \n",
       "----------------------------------------------------------\n",
       " Pair       Diff  t-value  df        p    adj.p           \n",
       "----------------------------------------------------------\n",
       "  B-G   -82.0833   4.9235  19   0.0001   0.0003   B < G * \n",
       "  B-R   -45.8000   3.0711  19   0.0063   0.0126   B < R * \n",
       "  G-R    36.2833   2.1973  19   0.0406   0.0406   G > R * \n",
       "----------------------------------------------------------\n",
       "\n",
       "\n",
       "< MULTIPLE COMPARISON for \"text at B\" >\n",
       "\n",
       "== Holm's Sequentially Rejective Bonferroni Procedure ==\n",
       "== The factor < text at B > is analysed as dependent means. == \n",
       "== Alpha level is 0.05. == \n",
       " \n",
       "--------------------------------------------------------------\n",
       "   Pair       Diff  t-value  df        p    adj.p             \n",
       "--------------------------------------------------------------\n",
       "赤-青    83.4833   5.2648  19   0.0000   0.0001 赤 > 青 * \n",
       "緑-青    68.1417   3.7254  19   0.0014   0.0029 緑 > 青 * \n",
       "緑-赤   -15.3417   0.8072  19   0.4295   0.4295 緑 = 赤   \n",
       "--------------------------------------------------------------\n",
       "\n",
       "\n",
       "< MULTIPLE COMPARISON for \"text at G\" >\n",
       "\n",
       "== Holm's Sequentially Rejective Bonferroni Procedure ==\n",
       "== The factor < text at G > is analysed as dependent means. == \n",
       "== Alpha level is 0.05. == \n",
       " \n",
       "--------------------------------------------------------------\n",
       "   Pair       Diff  t-value  df        p    adj.p             \n",
       "--------------------------------------------------------------\n",
       "緑-青   -86.1000   5.0096  19   0.0001   0.0002 緑 < 青 * \n",
       "緑-赤   -83.6100   4.8844  19   0.0001   0.0002 緑 < 赤 * \n",
       "赤-青    -2.4900   0.1501  19   0.8823   0.8823 赤 = 青   \n",
       "--------------------------------------------------------------\n",
       "\n",
       "\n",
       "< MULTIPLE COMPARISON for \"text at R\" >\n",
       "\n",
       "== Holm's Sequentially Rejective Bonferroni Procedure ==\n",
       "== The factor < text at R > is analysed as dependent means. == \n",
       "== Alpha level is 0.05. == \n",
       " \n",
       "--------------------------------------------------------------\n",
       "   Pair       Diff  t-value  df        p    adj.p             \n",
       "--------------------------------------------------------------\n",
       "緑-赤   108.7500   6.8668  19   0.0000   0.0000 緑 > 赤 * \n",
       "赤-青   -91.5000   4.4385  19   0.0003   0.0006 赤 < 青 * \n",
       "緑-青    17.2500   0.9148  19   0.3718   0.3718 緑 = 青   \n",
       "--------------------------------------------------------------\n",
       "\n",
       "\n",
       "output is over --------------------///\n",
       "\n"
      ]
     },
     "metadata": {},
     "output_type": "display_data"
    }
   ],
   "source": [
    "%%R\n",
    "anovakun(dat, 'sAB', long=T, peta=T, holm=T)"
   ]
  }
 ],
 "metadata": {
  "kernelspec": {
   "display_name": "Python [conda root]",
   "language": "python",
   "name": "conda-root-py"
  },
  "language_info": {
   "codemirror_mode": {
    "name": "ipython",
    "version": 3
   },
   "file_extension": ".py",
   "mimetype": "text/x-python",
   "name": "python",
   "nbconvert_exporter": "python",
   "pygments_lexer": "ipython3",
   "version": "3.5.2"
  }
 },
 "nbformat": 4,
 "nbformat_minor": 2
}
