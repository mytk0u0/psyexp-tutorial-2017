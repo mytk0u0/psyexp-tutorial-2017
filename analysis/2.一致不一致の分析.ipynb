{
 "cells": [
  {
   "cell_type": "code",
   "execution_count": 1,
   "metadata": {
    "collapsed": false
   },
   "outputs": [],
   "source": [
    "%matplotlib inline\n",
    "%load_ext rpy2.ipython"
   ]
  },
  {
   "cell_type": "code",
   "execution_count": 2,
   "metadata": {
    "collapsed": true
   },
   "outputs": [],
   "source": [
    "from __future__ import division, unicode_literals, print_function\n",
    "import numpy as np\n",
    "import pandas as pd\n",
    "import matplotlib.pyplot as plt\n",
    "from scipy import stats\n",
    "import statsmodels.formula.api as smf"
   ]
  },
  {
   "cell_type": "markdown",
   "metadata": {},
   "source": [
    "## 1. 前処理 (続き)"
   ]
  },
  {
   "cell_type": "code",
   "execution_count": 3,
   "metadata": {
    "collapsed": false
   },
   "outputs": [
    {
     "data": {
      "text/html": [
       "<div>\n",
       "<table border=\"1\" class=\"dataframe\">\n",
       "  <thead>\n",
       "    <tr style=\"text-align: right;\">\n",
       "      <th></th>\n",
       "      <th>subj</th>\n",
       "      <th>congruency</th>\n",
       "      <th>RT</th>\n",
       "    </tr>\n",
       "  </thead>\n",
       "  <tbody>\n",
       "    <tr>\n",
       "      <th>0</th>\n",
       "      <td>1</td>\n",
       "      <td>congruent</td>\n",
       "      <td>375.800000</td>\n",
       "    </tr>\n",
       "    <tr>\n",
       "      <th>1</th>\n",
       "      <td>1</td>\n",
       "      <td>incongruent</td>\n",
       "      <td>479.125000</td>\n",
       "    </tr>\n",
       "    <tr>\n",
       "      <th>2</th>\n",
       "      <td>2</td>\n",
       "      <td>congruent</td>\n",
       "      <td>380.000000</td>\n",
       "    </tr>\n",
       "    <tr>\n",
       "      <th>3</th>\n",
       "      <td>2</td>\n",
       "      <td>incongruent</td>\n",
       "      <td>492.852941</td>\n",
       "    </tr>\n",
       "    <tr>\n",
       "      <th>4</th>\n",
       "      <td>3</td>\n",
       "      <td>congruent</td>\n",
       "      <td>387.875000</td>\n",
       "    </tr>\n",
       "  </tbody>\n",
       "</table>\n",
       "</div>"
      ],
      "text/plain": [
       "   subj   congruency          RT\n",
       "0     1    congruent  375.800000\n",
       "1     1  incongruent  479.125000\n",
       "2     2    congruent  380.000000\n",
       "3     2  incongruent  492.852941\n",
       "4     3    congruent  387.875000"
      ]
     },
     "execution_count": 3,
     "metadata": {},
     "output_type": "execute_result"
    }
   ],
   "source": [
    "df = pd.read_csv('result_congruency.csv')\n",
    "df.head()"
   ]
  },
  {
   "cell_type": "code",
   "execution_count": 4,
   "metadata": {
    "collapsed": true
   },
   "outputs": [],
   "source": [
    "# 被験者条件を潰して，もう一度集計\n",
    "df_groupby = df.groupby(by=['congruency'])\n",
    "df_mean = df_groupby['RT'].mean()\n",
    "df_sem = df_groupby['RT'].sem()"
   ]
  },
  {
   "cell_type": "code",
   "execution_count": 5,
   "metadata": {
    "collapsed": true
   },
   "outputs": [],
   "source": [
    "# 独自の関数を適用 (apply) することもできる\n",
    "def cilen(arr, alpha=0.95):  # 両側95%信頼区間\n",
    "    m, e, df = np.mean(arr), stats.sem(arr), len(arr) - 1\n",
    "    interval = stats.t.interval(alpha, df, loc=m, scale=e)\n",
    "    cilen = np.max(interval) - np.mean(interval)\n",
    "    return cilen\n",
    "\n",
    "df_ci = df_groupby['RT'].apply(cilen)"
   ]
  },
  {
   "cell_type": "markdown",
   "metadata": {},
   "source": [
    "## 2. 可視化\n",
    "作図方法については[公式のギャラリー](http://matplotlib.org/gallery.html)を参照すると良い．\n",
    "\n",
    "### 2.1. ざっくりプロット"
   ]
  },
  {
   "cell_type": "code",
   "execution_count": 6,
   "metadata": {
    "collapsed": false,
    "scrolled": true
   },
   "outputs": [
    {
     "data": {
      "text/plain": [
       "<matplotlib.axes._subplots.AxesSubplot at 0x11319e710>"
      ]
     },
     "execution_count": 6,
     "metadata": {},
     "output_type": "execute_result"
    },
    {
     "data": {
      "image/png": "[encoded data removed]",
      "text/plain": [
       "<matplotlib.figure.Figure at 0x11319e908>"
      ]
     },
     "metadata": {},
     "output_type": "display_data"
    }
   ],
   "source": [
    "df_mean.plot(kind='bar', yerr=df_sem)"
   ]
  },
  {
   "cell_type": "markdown",
   "metadata": {},
   "source": [
    "### 2.2. しっかりプロット"
   ]
  },
  {
   "cell_type": "code",
   "execution_count": 7,
   "metadata": {
    "collapsed": false
   },
   "outputs": [
    {
     "data": {
      "image/png": "[encoded data removed]",
      "text/plain": [
       "<matplotlib.figure.Figure at 0x113221358>"
      ]
     },
     "metadata": {},
     "output_type": "display_data"
    }
   ],
   "source": [
    "fig, ax = plt.subplots(figsize=(10, 5))\n",
    "df_mean.plot(\n",
    "    kind='bar',\n",
    "    rot=0,  # ラベルの回転を0度に設定\n",
    "    yerr=df_sem,\n",
    "    color=('gray', 'white'),\n",
    "    edgecolor='black',\n",
    "    fontsize=20,\n",
    "    ax=ax\n",
    ")\n",
    "\n",
    "ax.set_xlabel('congruency', fontsize=20)\n",
    "ax.set_ylabel('反応時間 (ms)', fontsize=20)\n",
    "ax.set_ylim(200, 600)\n",
    "ax.spines['right'].set_visible(False)  # 右側の枠を消す\n",
    "ax.spines['top'].set_visible(False)  # 上側の枠を消す"
   ]
  },
  {
   "cell_type": "markdown",
   "metadata": {},
   "source": [
    "## 3. 分析\n",
    "### 3.1. t検定"
   ]
  },
  {
   "cell_type": "code",
   "execution_count": 8,
   "metadata": {
    "collapsed": false,
    "scrolled": true
   },
   "outputs": [
    {
     "data": {
      "text/html": [
       "<div>\n",
       "<table border=\"1\" class=\"dataframe\">\n",
       "  <thead>\n",
       "    <tr style=\"text-align: right;\">\n",
       "      <th>congruency</th>\n",
       "      <th>congruent</th>\n",
       "      <th>incongruent</th>\n",
       "    </tr>\n",
       "    <tr>\n",
       "      <th>subj</th>\n",
       "      <th></th>\n",
       "      <th></th>\n",
       "    </tr>\n",
       "  </thead>\n",
       "  <tbody>\n",
       "    <tr>\n",
       "      <th>1</th>\n",
       "      <td>375.800000</td>\n",
       "      <td>479.125000</td>\n",
       "    </tr>\n",
       "    <tr>\n",
       "      <th>2</th>\n",
       "      <td>380.000000</td>\n",
       "      <td>492.852941</td>\n",
       "    </tr>\n",
       "    <tr>\n",
       "      <th>3</th>\n",
       "      <td>387.875000</td>\n",
       "      <td>471.363636</td>\n",
       "    </tr>\n",
       "    <tr>\n",
       "      <th>4</th>\n",
       "      <td>353.647059</td>\n",
       "      <td>471.583333</td>\n",
       "    </tr>\n",
       "    <tr>\n",
       "      <th>5</th>\n",
       "      <td>383.333333</td>\n",
       "      <td>494.500000</td>\n",
       "    </tr>\n",
       "  </tbody>\n",
       "</table>\n",
       "</div>"
      ],
      "text/plain": [
       "congruency   congruent  incongruent\n",
       "subj                               \n",
       "1           375.800000   479.125000\n",
       "2           380.000000   492.852941\n",
       "3           387.875000   471.363636\n",
       "4           353.647059   471.583333\n",
       "5           383.333333   494.500000"
      ]
     },
     "execution_count": 8,
     "metadata": {},
     "output_type": "execute_result"
    }
   ],
   "source": [
    "table = df.set_index(['subj', 'congruency'])['RT'].unstack()\n",
    "table.head()"
   ]
  },
  {
   "cell_type": "markdown",
   "metadata": {},
   "source": [
    "#### 対応あり"
   ]
  },
  {
   "cell_type": "code",
   "execution_count": 9,
   "metadata": {
    "collapsed": false
   },
   "outputs": [
    {
     "name": "stdout",
     "output_type": "stream",
     "text": [
      "-9.41180511456 1.38465046153e-08\n"
     ]
    }
   ],
   "source": [
    "t, p = stats.ttest_rel(table['congruent'], table['incongruent'])\n",
    "print(t, p)"
   ]
  },
  {
   "cell_type": "code",
   "execution_count": 10,
   "metadata": {
    "collapsed": false
   },
   "outputs": [
    {
     "data": {
      "text/plain": [
       "\n",
       "\tPaired t-test\n",
       "\n",
       "data:  dat.c and dat.i\n",
       "t = -9.4118, df = 19, p-value = 1.385e-08\n",
       "alternative hypothesis: true difference in means is not equal to 0\n",
       "95 percent confidence interval:\n",
       " -105.58562  -67.16815\n",
       "sample estimates:\n",
       "mean of the differences \n",
       "              -86.37689 \n",
       "\n"
      ]
     },
     "metadata": {},
     "output_type": "display_data"
    }
   ],
   "source": [
    "%%R\n",
    "dat <- read.csv('result_congruency.csv')\n",
    "dat.c <- dat[dat$congruency == 'congruent', 'RT']\n",
    "dat.i <- dat[dat$congruency == 'incongruent', 'RT']\n",
    "t.test(dat.c, dat.i, paired = T)  # もちろん，Rの場合と一致する"
   ]
  },
  {
   "cell_type": "markdown",
   "metadata": {},
   "source": [
    "#### 対応なし"
   ]
  },
  {
   "cell_type": "code",
   "execution_count": 11,
   "metadata": {
    "collapsed": false
   },
   "outputs": [
    {
     "name": "stdout",
     "output_type": "stream",
     "text": [
      "-9.91026349597 4.38352228745e-12\n"
     ]
    }
   ],
   "source": [
    "t, p = stats.ttest_ind(table['congruent'], table['incongruent'])\n",
    "print(t, p)"
   ]
  },
  {
   "cell_type": "code",
   "execution_count": 12,
   "metadata": {
    "collapsed": false
   },
   "outputs": [
    {
     "data": {
      "text/plain": [
       "\n",
       "\tWelch Two Sample t-test\n",
       "\n",
       "data:  dat.c and dat.i\n",
       "t = -9.9103, df = 31.938, p-value = 2.885e-11\n",
       "alternative hypothesis: true difference in means is not equal to 0\n",
       "95 percent confidence interval:\n",
       " -104.13195  -68.62182\n",
       "sample estimates:\n",
       "mean of x mean of y \n",
       " 386.9838  473.3607 \n",
       "\n"
      ]
     },
     "metadata": {},
     "output_type": "display_data"
    }
   ],
   "source": [
    "%%R\n",
    "t.test(dat.c, dat.i, paired = F)"
   ]
  },
  {
   "cell_type": "markdown",
   "metadata": {},
   "source": [
    "### 3.2. 分散分析\n",
    "Pythonのstatsmodelsでは反復測定ANOVAの分析ができません．分散分析だけはRを呼んだほうが楽です (ほかにPythonでできないこととして，一般化線形混合モデルが挙げられます)．\n",
    "\n",
    "Rで分散分析するならaov…に見せかけて，楽したいという人はanova君を使うのが最も良いです．"
   ]
  },
  {
   "cell_type": "code",
   "execution_count": 13,
   "metadata": {
    "collapsed": false
   },
   "outputs": [
    {
     "data": {
      "text/plain": [
       "\n",
       "[ sA-Type Design ] \n",
       " \n",
       "This output was generated by anovakun 4.6.2 under R version 3.3.2. \n",
       "It was executed on Sun Feb 26 17:54:05 2017. \n",
       " \n",
       " \n",
       "<< DESCRIPTIVE STATISTICS >>\n",
       "\n",
       "--------------------------------------\n",
       "  congruency   n      Mean     S.D. \n",
       "--------------------------------------\n",
       "   congruent  20  386.9838  33.0247 \n",
       " incongruent  20  473.3607  20.7053 \n",
       "--------------------------------------\n",
       "\n",
       "\n",
       "<< SPHERICITY INDICES >>\n",
       "\n",
       "== Mendoza's Multisample Sphericity Test and Epsilons == \n",
       " \n",
       "---------------------------------------------------------------------------\n",
       "     Effect  Lambda  approx.Chi df       p         LB     GG     HF     CM \n",
       "---------------------------------------------------------------------------\n",
       " congruency  1.0000     -0.0000  0             1.0000 1.0000 1.0000 1.0000 \n",
       "---------------------------------------------------------------------------\n",
       "                                 LB = lower.bound, GG = Greenhouse-Geisser \n",
       "                                 HF = Huynh-Feldt-Lecoutre, CM = Chi-Muller \n",
       " \n",
       " \n",
       "<< ANOVA TABLE >>\n",
       "\n",
       "----------------------------------------------------------------------------\n",
       "         Source           SS  df          MS  F-ratio  p-value      p.eta^2 \n",
       "----------------------------------------------------------------------------\n",
       "              s   12864.3876  19    677.0730        \n",
       "----------------------------------------------------------------------------\n",
       "     congruency   74609.6630   1  74609.6630  88.5821   0.0000 ***   0.8234 \n",
       " s x congruency   16003.0524  19    842.2659        \n",
       "----------------------------------------------------------------------------\n",
       "          Total  103477.1030  39 \n",
       "                                 +p < .10, *p < .05, **p < .01, ***p < .001 \n",
       "\n",
       " \n",
       "output is over --------------------///\n",
       "\n"
      ]
     },
     "metadata": {},
     "output_type": "display_data"
    }
   ],
   "source": [
    "%%R\n",
    "source('anovakun_462.txt')\n",
    "anovakun(dat, 'sA', long=T, peta=T, holm=T)  # anova君にお任せするなら"
   ]
  },
  {
   "cell_type": "markdown",
   "metadata": {},
   "source": [
    "### 3.3. 線形混合モデル (LME)\n",
    "Pythonでは一般化線形混合モデル (GLMM) を使うライブラリは存在しません．しかし線形混合モデルならなら利用可能です．\n",
    "\n",
    "分散分析なんて古臭い！これからは混合モデルの時代だ！という人ならPythonでもやれます．\n",
    "\n",
    "次のブロックに示したコードは，以下のコードのようにRのlme4を用いた場合と同じ結果を示します．\n",
    "\n",
    "```\n",
    "library(lme4)\n",
    "d <- read.csv('result_congruency.csv')\n",
    "fit <- lmer(RT ~ congruency + (1 | subj), data = d)\n",
    "summary(fit)\n",
    "```"
   ]
  },
  {
   "cell_type": "code",
   "execution_count": 14,
   "metadata": {
    "collapsed": false
   },
   "outputs": [
    {
     "name": "stderr",
     "output_type": "stream",
     "text": [
      "/Users/masataka/anaconda/lib/python3.5/site-packages/statsmodels/regression/mixed_linear_model.py:2019: ConvergenceWarning: The MLE may be on the boundary of the parameter space.\n",
      "  warnings.warn(msg, ConvergenceWarning)\n"
     ]
    },
    {
     "data": {
      "text/html": [
       "<table class=\"simpletable\">\n",
       "<tr>\n",
       "       <td>Model:</td>       <td>MixedLM</td> <td>Dependent Variable:</td>    <td>RT</td>    \n",
       "</tr>\n",
       "<tr>\n",
       "  <td>No. Observations:</td>   <td>40</td>          <td>Method:</td>         <td>REML</td>   \n",
       "</tr>\n",
       "<tr>\n",
       "     <td>No. Groups:</td>      <td>20</td>          <td>Scale:</td>        <td>759.6695</td> \n",
       "</tr>\n",
       "<tr>\n",
       "  <td>Min. group size:</td>     <td>2</td>        <td>Likelihood:</td>     <td>-182.9402</td>\n",
       "</tr>\n",
       "<tr>\n",
       "  <td>Max. group size:</td>     <td>2</td>        <td>Converged:</td>         <td>Yes</td>   \n",
       "</tr>\n",
       "<tr>\n",
       "  <td>Mean group size:</td>    <td>2.0</td>            <td></td>               <td></td>     \n",
       "</tr>\n",
       "</table>\n",
       "<table class=\"simpletable\">\n",
       "<tr>\n",
       "              <td></td>               <th>Coef.</th>  <th>Std.Err.</th>    <th>z</th>   <th>P>|z|</th> <th>[0.025</th>  <th>0.975]</th> \n",
       "</tr>\n",
       "<tr>\n",
       "  <th>Intercept</th>                 <td>386.984</td>   <td>6.163</td>  <td>62.791</td> <td>0.000</td> <td>374.904</td> <td>399.063</td>\n",
       "</tr>\n",
       "<tr>\n",
       "  <th>congruency[T.incongruent]</th> <td>86.377</td>    <td>8.716</td>   <td>9.910</td> <td>0.000</td> <td>69.294</td>  <td>103.460</td>\n",
       "</tr>\n",
       "<tr>\n",
       "  <th>groups RE</th>                  <td>0.000</td>    <td>7.203</td>     <td></td>      <td></td>       <td></td>        <td></td>    \n",
       "</tr>\n",
       "</table>"
      ],
      "text/plain": [
       "<class 'statsmodels.iolib.summary2.Summary'>\n",
       "\"\"\"\n",
       "                 Mixed Linear Model Regression Results\n",
       "=======================================================================\n",
       "Model:                  MixedLM      Dependent Variable:      RT       \n",
       "No. Observations:       40           Method:                  REML     \n",
       "No. Groups:             20           Scale:                   759.6695 \n",
       "Min. group size:        2            Likelihood:              -182.9402\n",
       "Max. group size:        2            Converged:               Yes      \n",
       "Mean group size:        2.0                                            \n",
       "-----------------------------------------------------------------------\n",
       "                           Coef.  Std.Err.   z    P>|z|  [0.025  0.975]\n",
       "-----------------------------------------------------------------------\n",
       "Intercept                 386.984    6.163 62.791 0.000 374.904 399.063\n",
       "congruency[T.incongruent]  86.377    8.716  9.910 0.000  69.294 103.460\n",
       "groups RE                   0.000    7.203                             \n",
       "=======================================================================\n",
       "\n",
       "\"\"\""
      ]
     },
     "execution_count": 14,
     "metadata": {},
     "output_type": "execute_result"
    }
   ],
   "source": [
    "model = smf.mixedlm('RT ~ congruency', data=df, groups=df['subj']).fit()\n",
    "model.summary()"
   ]
  }
 ],
 "metadata": {
  "kernelspec": {
   "display_name": "Python [conda root]",
   "language": "python",
   "name": "conda-root-py"
  },
  "language_info": {
   "codemirror_mode": {
    "name": "ipython",
    "version": 3
   },
   "file_extension": ".py",
   "mimetype": "text/x-python",
   "name": "python",
   "nbconvert_exporter": "python",
   "pygments_lexer": "ipython3",
   "version": "3.5.2"
  }
 },
 "nbformat": 4,
 "nbformat_minor": 2
}
